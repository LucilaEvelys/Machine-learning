{
 "cells": [
  {
   "cell_type": "markdown",
   "metadata": {},
   "source": [
    "### E10 - Random Forest Performance Review"
   ]
  },
  {
   "cell_type": "markdown",
   "metadata": {},
   "source": [
    "\n",
    "La discusión del artículo se centra en la documentación y comparación de los métodos para resolver problemas de clasificación en la vida real.\n",
    " \n",
    "Es bien sabido que dentro de las matemáticas y la informática los métodos para resolver problemas provienen de diversas fuentes como la estadística -modelos lineales y análisis discriminante-, la minería de datos –reglas y árboles de decisión-, enfoques conexionistas –redes neuronales-, enfoques de reagrupamiento, entre otros. Dentro de su desarrollo inicial da un enfoque de que el uso de estos métodos está ligado al área de estudio de los investigadores lo que generalmente se traduce en una limitación porque puede haber métodos más eficientes pero que por desconocimiento pueden ser considerados como “muy complejos”.\n",
    "\n",
    "Cuando se desconoce el uso de los clasificadores, la opción más obvia es la revisión de la literatura, pero la mayoría de estos clasificadores son comparados con otros dentro de la misma familia y no con familias de otros tipos de clasificadores, de igual manera, las comparaciones que se hacen se desarrollan sobre pocos métodos por los que la variación y las precisiones de cada modelo pueden ser bastante disímiles.\n",
    "\n",
    "Como investigador o como persona que requiere adquirir conocimiento en el uso de estos métodos estoy de acuerdo en que lo primero que uno debe preguntarse es si eso que voy a explorar será una mejor opción que aquella opción que ya conozco. Para ello, es importante establecer de manera clara cuales son las capacidades de cada clasificador y cada familia con el fin de comparar un amplio número de ellos para lograr conclusiones significativas en cuanto al clasificador que ofrezca el mejor rendimiento para cualquier dato, haciendo especial énfasis en que el mejor clasificador no será el mismo para todos los conjuntos de datos.\n",
    "\n",
    "El artículo establece un procedimiento para realizar esto, que se reduce a los siguientes pasos:\n",
    "1.\tSeleccionar la mejor familia y mejor clasificador para la colección de datos seleccionados.\n",
    "2.\tClasificar cada una de las familias y de los clasificadores a partir de su precisión.\n",
    "3.\tDeterminar para cada clasificador la probabilidad de aumentar su precisión.\n",
    "4.\tEvaluar como varia el comportamiento del clasificador a partir de las propiedades del conjunto de datos.\n",
    "\n",
    "Se relacionan artículos recientes a la época de la escritura del artículo (2012-2013) acerca de las comparaciones de grandes colecciones de conjuntos de datos y se hacen ciertas críticas y observaciones respecto a cada una de estas comparaciones experimentales que merecen ser tenidas en cuenta:\n",
    "\n",
    "#### El criterio utilizado para recopilar el conjunto de datos puede sesgar los resultados de la comparación. \n",
    "La superioridad de un clasificador puede estar restringida a un dominio caracterizado por alguna medida de complejidad, Trabajo basado en el repositorio de clasificación UCI (Maciá and Bernado-Mansilla 2014).\n",
    "\n",
    "#### La selección de los learners es lo suficientemente representativa y estos están configurados para trabajar a su máximo desempeño. \n",
    "\n",
    "#### Aún es imposible determinar la precisión máxima para un conjunto de datos por lo cual es difícil evaluar la verdadera calidad de cada clasificador. \n",
    "Se supone que la máxima precisión alcanzada por un clasificador es la precisión máxima alcanzable para ese conjunto de datos. Aunque es una hipótesis, se sustenta en el hecho de que en la medida que aumenta el número de clasificadores, aumenta la precisión.\n",
    "\n",
    "#### Dada la complejidad del conjunto de datos y su desconocimiento es complicado establecer el origen del error de clasificación. \n",
    "Se sugiere la réplica del experimento para buscar la mayor precisión del modelo.\n",
    "\n",
    "#### La falta de partición de los datos de entrenamiento y de prueba. \n",
    "El uso de diferentes particiones sesga los resultados y hace complicado la comparación entre experimentos.\n",
    "\n",
    "\n",
    "En un breve resumen del paper, se utilizan un total de 165 data sets, 179 clasificadores implementados en C++, Matlab, R y Weka. \n",
    "A partir de un análisis discriminante, se establecen 20 clasificadores.\n",
    "Con una aproximación Bayesiana se establecen 6 clasificadores.\n",
    "Redes neuronales: 21 clasificadores.\n",
    "Suport Vector Machine: 10 clasificadores.\n",
    "Árboles de decisión: 14 clasificadores.\n",
    "Rule-based methods: 12 clasificadores.\n",
    "Boosting: 20 clasificadores.\n",
    "Bagging: 24 clasificadores.\n",
    "Stacking: 2 clasificadores.\n",
    "Random Forests: 8 clasificadores.\n",
    "Otros conjuntos: 11 clasificadores.\n",
    "Modelos lineales generalizados: 5 clasificadores.\n",
    "Regresión Logística: 3 clasificadores.\n",
    "Reglas multivariadas de regresión adaptativa: 2 clasificadores.\n",
    "Otros métodos: 10 clasificadores.\n",
    "\n",
    "Luego de la discusión de cada uno de los métodos, analizando de acuerdo a los métodos, los datasets, las familias y los clasificadores se establece que los mejores resultados los ofrece el método de Random Forests. La mayoría de los mejores clasificadores están implementados en R y sintonizadosusando caret, que parece ser la mejor alternativa para seleccionar una implementación de clasificador.\n",
    "\n"
   ]
  },
  {
   "cell_type": "code",
   "execution_count": null,
   "metadata": {},
   "outputs": [],
   "source": []
  }
 ],
 "metadata": {
  "kernelspec": {
   "display_name": "Python 3",
   "language": "python",
   "name": "python3"
  },
  "language_info": {
   "codemirror_mode": {
    "name": "ipython",
    "version": 3
   },
   "file_extension": ".py",
   "mimetype": "text/x-python",
   "name": "python",
   "nbconvert_exporter": "python",
   "pygments_lexer": "ipython3",
   "version": "3.6.5"
  }
 },
 "nbformat": 4,
 "nbformat_minor": 2
}
