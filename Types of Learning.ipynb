{
 "cells": [
  {
   "cell_type": "markdown",
   "metadata": {},
   "source": [
    "## Lucila Evelys Noriega Fornaris"
   ]
  },
  {
   "cell_type": "markdown",
   "metadata": {},
   "source": [
    "Write at least 300 words explaining the types of learning in Ml."
   ]
  },
  {
   "cell_type": "markdown",
   "metadata": {},
   "source": [
    "Dentro de la disciplina de Machine Learning, los algoritmos se clasifican de acuerdo al tipo de aprendizaje: aprendizaje supervisado y aprendizaje no supervisado. \n",
    "\n",
    "- Aprendizaje supervisado\n",
    "\n",
    "Coloquialmente, cuando se habla de un modelo supervisado, se conoce el valor de la variable dependiente, es decir que cada objeto de la variable de entrada está pareada con un objeto de la variables de salida.  Los modelos tienen una fase de entrenamiento, requerido para hacer predicciones, de ahí que sea utilizado en algoritmos de regresión logística y redes neuronales, problemas de regresión y de predicciones. Según la literatura, algunos de los algoritmos más utilizados de aprendizaje supervisado son los árboles de decisión, regresión logística, regresión por mínimos cuadrados, entre otros.\n",
    "Si se va más a fondo, este tipo de aprendizaje tiene dos enfoques, uno hacia los problemas de clasificación y otro hacia los problemas de regresión.\n",
    "Cuando se tiene un problema de regresión, se busca predecir los resultados con una salida continua, lo que significa que se está asignando variables de entrada para una función continua; en un problema de clasificación, se trata de predecir los resultados de una salida de carácter discreto.\n",
    "\n",
    "- Aprendizaje no supervisado\n",
    "\n",
    "En este tipo de modelos, los datos no se etiquetan y no se conoce el valor de la variable dependiente. Los datos de salida no dependen directamente del comportamiento de los datos de entrada. Son modelos en los que se busca describir la estructura de los datos para encontrar un camino de simplificación para su tratamiento. Generalmente, constituyen procedimientos de carácter exploratorio y suele usarse en problemas de clustering, agrupamiento de co-ocurrencia y profiling. Los algoritmos más habituales de aprendizaje no supervisado son algoritmos de clustering, componentes principales, componentes independientes, entre otros.\n",
    "Uno de los principales inconvenientes que se presenta con este tipo de aprendizajes es que a pesar de deducir una estructura de los datos no se sabe necesariamente cual es el efecto que tienen las variables y no hay retroalimentación con base en los resultados de la predicción.\n"
   ]
  }
 ],
 "metadata": {
  "kernelspec": {
   "display_name": "Python 3",
   "language": "python",
   "name": "python3"
  },
  "language_info": {
   "codemirror_mode": {
    "name": "ipython",
    "version": 3
   },
   "file_extension": ".py",
   "mimetype": "text/x-python",
   "name": "python",
   "nbconvert_exporter": "python",
   "pygments_lexer": "ipython3",
   "version": "3.6.5"
  }
 },
 "nbformat": 4,
 "nbformat_minor": 2
}
