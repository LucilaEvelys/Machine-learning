{
 "cells": [
  {
   "cell_type": "markdown",
   "metadata": {},
   "source": [
    "# E16 - Natural Language Processing Overview\n",
    "Research for a commercial product which uses NLP as a core(E.g. google assistant) and describes, in general words, which NLP techniques it uses.\n"
   ]
  },
  {
   "cell_type": "markdown",
   "metadata": {},
   "source": [
    "# UNICHECK\n",
    "\n",
    "Unichek es un software de detección de plagio que encuentra similitudes, citas y referencias en los textos. \n",
    "\n",
    "Es utilizado principalmente en educación superior por aproximadamente 400 instituciones en todo el mundo, aunque también es utilizada como un verificador independiente por usuarios individuales como escritores, bloggers, abogados, entre otros. En 2017 se convirtió en el primer comprobador de plagio en integrarse con Google Classroom y tiene una nueva integración con Canvas, llamado “nativo” que se basa en LTI y en API.\n",
    "En términos funcionales Unicheck ofrece funciones de búsqueda y reconocimiento para similitudes, citas y referencias en textos. Puede descubrir caracteres que han sido reemplazados en el texto de otro alfabeto como el cirílico y el latino.\n",
    "\n",
    "Para la detección de similitudes y parafraseo se realizan las comparaciones contra páginas de internet indexadas en los buscadores Yahoo y Google, repositorios de código abierto, y la biblioteca o base de datos interna del usuario. La precisión de la búsqueda se logra mediante el uso de un algoritmo que divide el texto en pequeñas secuencias de desplazamiento y las utiliza para buscar similitudes y comprobaciones en todas las páginas web. Los resultados de la verificación se presentan en un informe de desimilitud en formato PDF, en donde cada una de las similitudes encontradas tiene un enlace a la fuente.\n",
    "\n",
    "Se puede utilizar como una herramienta en línea independiente o se puede integrar a un Sistema de Gestión de Aprendizaje a través de los tipos de integración de API de complemento LTI, API o LTI+.  Es compatible con los formatos .doc, .rtf, .txt, .html, .docx, .odt, .ppt, .pptx, .pdf, .pages, .gdoc, archivos rar y zip, y cargados desde Google Drive, oneDrive y Dropbox. \n",
    "\n",
    "Esta aplicación ha desarrollado los siguientes tipos de integraciones con Learning Management Systems (LMS)- Sistema de administración de aprendizaje:\n",
    "\n",
    "-\tEnchufar: se caracteriza por la funcionalidad LMS enriquecida con funciones adicionales de la herramienta, sin cambiar la interfaz nativa. Este tipo de integración se utiliza con Moodle y Sakai LMS.\n",
    "-\tLTI: esta integración se caracteriza por una interfaz totalmente nueva creada dentro de LMS para habilitar las funciones de Unicheck. Este tipo de integraciones fueron diseñadas para Canvas, Moodle, Schoology, Blackboard y NEO LMS.\n",
    "-\tAPI: con este tipo de integración, los sistemas de LMS y Unicheck se conectan mediante API para garantizar la interacción. La API funciona a través de la determinación de funcionalidad del sistema, sin tener en cuenta la forma en que se realiza la funcionalidad. A través de este tipo de interacción, Unicheck se integra con Google Classroom.\n",
    "-\tAPI de LTI+: es un tipo especial de integración que toma los principios de API y LTI para crear una integración nativa que presenta las funciones de Unicheck en la interfaz nativa de LMS. Solo está disponible para Canvas LMS.\n",
    "\n",
    "\n",
    "### Según los creadores de Unicheck, las siguientes características la hace especial:\n",
    "-\tEstá en consonancia con las principales corrientes en educación digital que aplican las tecnologías de redes neuronales responsables del Deep Learning. \n",
    "-\tLas tecnologías de Deep Learning permiten construir algoritmos de Inteligencia Artificial punteros para llevarla detección de plagio al siguiente nivel.\n",
    "-\tLos métodos NPL convierten a Unicheck en el siguiente gran avance en la detección de los plagios. Capaz de encontrar contenido parafraseado en los archivos que se lo presenta.\n",
    "\n",
    "Información tomada de:\n",
    "\n",
    "https://support.unicheck.com/hc/en-us/articles/360020764234-Administrator-s-Guide \n",
    "\n",
    "https://jobs.dou.ua/companies/unicheck/\n",
    "\n",
    "https://translate.google.com/translate?hl=es&sl=en&u=https://en.wikipedia.org/wiki/Unicheck&prev=search \n",
    "\n",
    "https://unicheck.com/es-es/investors-page \n"
   ]
  }
 ],
 "metadata": {
  "kernelspec": {
   "display_name": "Python 3",
   "language": "python",
   "name": "python3"
  },
  "language_info": {
   "codemirror_mode": {
    "name": "ipython",
    "version": 3
   },
   "file_extension": ".py",
   "mimetype": "text/x-python",
   "name": "python",
   "nbconvert_exporter": "python",
   "pygments_lexer": "ipython3",
   "version": "3.6.5"
  }
 },
 "nbformat": 4,
 "nbformat_minor": 2
}
