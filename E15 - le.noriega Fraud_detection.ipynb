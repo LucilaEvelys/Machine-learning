{
 "cells": [
  {
   "cell_type": "markdown",
   "metadata": {},
   "source": [
    "# Exercise 15\n",
    "\n",
    "# Fraud Detection"
   ]
  },
  {
   "cell_type": "markdown",
   "metadata": {},
   "source": [
    "## Introduction\n",
    "\n",
    "- Fraud Detection Dataset from Microsoft Azure: [data](http://gallery.cortanaintelligence.com/Experiment/8e9fe4e03b8b4c65b9ca947c72b8e463)\n",
    "\n",
    "Fraud detection is one of the earliest industrial applications of data mining and machine learning. Fraud detection is typically handled as a binary classification problem, but the class population is unbalanced because instances of fraud are usually very rare compared to the overall volume of transactions. Moreover, when fraudulent transactions are discovered, the business typically takes measures to block the accounts from transacting to prevent further losses. "
   ]
  },
  {
   "cell_type": "code",
   "execution_count": 1,
   "metadata": {},
   "outputs": [],
   "source": [
    "%matplotlib inline\n",
    "import random\n",
    "import matplotlib.pyplot as plt\n",
    "from sklearn.decomposition import PCA\n",
    "import pandas as pd\n",
    "import numpy as np\n",
    "from sklearn.model_selection import cross_val_score\n",
    "from sklearn.linear_model import LogisticRegression\n",
    "from sklearn.tree import DecisionTreeClassifier\n",
    "from sklearn.ensemble import RandomForestClassifier\n",
    "from sklearn import metrics"
   ]
  },
  {
   "cell_type": "code",
   "execution_count": 2,
   "metadata": {
    "scrolled": true
   },
   "outputs": [],
   "source": [
    "import pandas as pd\n",
    "\n",
    "url = 'https://raw.githubusercontent.com/albahnsen/PracticalMachineLearningClass/master/datasets/15_fraud_detection.csv.zip'\n",
    "df = pd.read_csv(url, index_col=0)"
   ]
  },
  {
   "cell_type": "code",
   "execution_count": 3,
   "metadata": {},
   "outputs": [
    {
     "data": {
      "text/html": [
       "<div>\n",
       "<style scoped>\n",
       "    .dataframe tbody tr th:only-of-type {\n",
       "        vertical-align: middle;\n",
       "    }\n",
       "\n",
       "    .dataframe tbody tr th {\n",
       "        vertical-align: top;\n",
       "    }\n",
       "\n",
       "    .dataframe thead th {\n",
       "        text-align: right;\n",
       "    }\n",
       "</style>\n",
       "<table border=\"1\" class=\"dataframe\">\n",
       "  <thead>\n",
       "    <tr style=\"text-align: right;\">\n",
       "      <th></th>\n",
       "      <th>accountAge</th>\n",
       "      <th>digitalItemCount</th>\n",
       "      <th>sumPurchaseCount1Day</th>\n",
       "      <th>sumPurchaseAmount1Day</th>\n",
       "      <th>sumPurchaseAmount30Day</th>\n",
       "      <th>paymentBillingPostalCode - LogOddsForClass_0</th>\n",
       "      <th>accountPostalCode - LogOddsForClass_0</th>\n",
       "      <th>paymentBillingState - LogOddsForClass_0</th>\n",
       "      <th>accountState - LogOddsForClass_0</th>\n",
       "      <th>paymentInstrumentAgeInAccount</th>\n",
       "      <th>ipState - LogOddsForClass_0</th>\n",
       "      <th>transactionAmount</th>\n",
       "      <th>transactionAmountUSD</th>\n",
       "      <th>ipPostalCode - LogOddsForClass_0</th>\n",
       "      <th>localHour - LogOddsForClass_0</th>\n",
       "      <th>Label</th>\n",
       "    </tr>\n",
       "  </thead>\n",
       "  <tbody>\n",
       "    <tr>\n",
       "      <th>0</th>\n",
       "      <td>2000</td>\n",
       "      <td>0</td>\n",
       "      <td>0</td>\n",
       "      <td>0.00</td>\n",
       "      <td>720.25</td>\n",
       "      <td>5.064533</td>\n",
       "      <td>0.421214</td>\n",
       "      <td>1.312186</td>\n",
       "      <td>0.566395</td>\n",
       "      <td>3279.574306</td>\n",
       "      <td>1.218157</td>\n",
       "      <td>599.00</td>\n",
       "      <td>626.164650</td>\n",
       "      <td>1.259543</td>\n",
       "      <td>4.745402</td>\n",
       "      <td>0</td>\n",
       "    </tr>\n",
       "    <tr>\n",
       "      <th>1</th>\n",
       "      <td>62</td>\n",
       "      <td>1</td>\n",
       "      <td>1</td>\n",
       "      <td>1185.44</td>\n",
       "      <td>2530.37</td>\n",
       "      <td>0.538996</td>\n",
       "      <td>0.481838</td>\n",
       "      <td>4.401370</td>\n",
       "      <td>4.500157</td>\n",
       "      <td>61.970139</td>\n",
       "      <td>4.035601</td>\n",
       "      <td>1185.44</td>\n",
       "      <td>1185.440000</td>\n",
       "      <td>3.981118</td>\n",
       "      <td>4.921349</td>\n",
       "      <td>0</td>\n",
       "    </tr>\n",
       "    <tr>\n",
       "      <th>2</th>\n",
       "      <td>2000</td>\n",
       "      <td>0</td>\n",
       "      <td>0</td>\n",
       "      <td>0.00</td>\n",
       "      <td>0.00</td>\n",
       "      <td>5.064533</td>\n",
       "      <td>5.096396</td>\n",
       "      <td>3.056357</td>\n",
       "      <td>3.155226</td>\n",
       "      <td>0.000000</td>\n",
       "      <td>3.314186</td>\n",
       "      <td>32.09</td>\n",
       "      <td>32.090000</td>\n",
       "      <td>5.008490</td>\n",
       "      <td>4.742303</td>\n",
       "      <td>0</td>\n",
       "    </tr>\n",
       "    <tr>\n",
       "      <th>3</th>\n",
       "      <td>1</td>\n",
       "      <td>1</td>\n",
       "      <td>0</td>\n",
       "      <td>0.00</td>\n",
       "      <td>0.00</td>\n",
       "      <td>5.064533</td>\n",
       "      <td>5.096396</td>\n",
       "      <td>3.331154</td>\n",
       "      <td>3.331239</td>\n",
       "      <td>0.000000</td>\n",
       "      <td>3.529398</td>\n",
       "      <td>133.28</td>\n",
       "      <td>132.729554</td>\n",
       "      <td>1.324925</td>\n",
       "      <td>4.745402</td>\n",
       "      <td>0</td>\n",
       "    </tr>\n",
       "    <tr>\n",
       "      <th>4</th>\n",
       "      <td>1</td>\n",
       "      <td>1</td>\n",
       "      <td>0</td>\n",
       "      <td>0.00</td>\n",
       "      <td>132.73</td>\n",
       "      <td>5.412885</td>\n",
       "      <td>0.342945</td>\n",
       "      <td>5.563677</td>\n",
       "      <td>4.086965</td>\n",
       "      <td>0.001389</td>\n",
       "      <td>3.529398</td>\n",
       "      <td>543.66</td>\n",
       "      <td>543.660000</td>\n",
       "      <td>2.693451</td>\n",
       "      <td>4.876771</td>\n",
       "      <td>0</td>\n",
       "    </tr>\n",
       "  </tbody>\n",
       "</table>\n",
       "</div>"
      ],
      "text/plain": [
       "   accountAge  digitalItemCount  sumPurchaseCount1Day  sumPurchaseAmount1Day  \\\n",
       "0        2000                 0                     0                   0.00   \n",
       "1          62                 1                     1                1185.44   \n",
       "2        2000                 0                     0                   0.00   \n",
       "3           1                 1                     0                   0.00   \n",
       "4           1                 1                     0                   0.00   \n",
       "\n",
       "   sumPurchaseAmount30Day  paymentBillingPostalCode - LogOddsForClass_0  \\\n",
       "0                  720.25                                      5.064533   \n",
       "1                 2530.37                                      0.538996   \n",
       "2                    0.00                                      5.064533   \n",
       "3                    0.00                                      5.064533   \n",
       "4                  132.73                                      5.412885   \n",
       "\n",
       "   accountPostalCode - LogOddsForClass_0  \\\n",
       "0                               0.421214   \n",
       "1                               0.481838   \n",
       "2                               5.096396   \n",
       "3                               5.096396   \n",
       "4                               0.342945   \n",
       "\n",
       "   paymentBillingState - LogOddsForClass_0  accountState - LogOddsForClass_0  \\\n",
       "0                                 1.312186                          0.566395   \n",
       "1                                 4.401370                          4.500157   \n",
       "2                                 3.056357                          3.155226   \n",
       "3                                 3.331154                          3.331239   \n",
       "4                                 5.563677                          4.086965   \n",
       "\n",
       "   paymentInstrumentAgeInAccount  ipState - LogOddsForClass_0  \\\n",
       "0                    3279.574306                     1.218157   \n",
       "1                      61.970139                     4.035601   \n",
       "2                       0.000000                     3.314186   \n",
       "3                       0.000000                     3.529398   \n",
       "4                       0.001389                     3.529398   \n",
       "\n",
       "   transactionAmount  transactionAmountUSD  ipPostalCode - LogOddsForClass_0  \\\n",
       "0             599.00            626.164650                          1.259543   \n",
       "1            1185.44           1185.440000                          3.981118   \n",
       "2              32.09             32.090000                          5.008490   \n",
       "3             133.28            132.729554                          1.324925   \n",
       "4             543.66            543.660000                          2.693451   \n",
       "\n",
       "   localHour - LogOddsForClass_0  Label  \n",
       "0                       4.745402      0  \n",
       "1                       4.921349      0  \n",
       "2                       4.742303      0  \n",
       "3                       4.745402      0  \n",
       "4                       4.876771      0  "
      ]
     },
     "execution_count": 3,
     "metadata": {},
     "output_type": "execute_result"
    }
   ],
   "source": [
    "df[df.Label==0].head()"
   ]
  },
  {
   "cell_type": "code",
   "execution_count": 4,
   "metadata": {},
   "outputs": [
    {
     "data": {
      "text/html": [
       "<div>\n",
       "<style scoped>\n",
       "    .dataframe tbody tr th:only-of-type {\n",
       "        vertical-align: middle;\n",
       "    }\n",
       "\n",
       "    .dataframe tbody tr th {\n",
       "        vertical-align: top;\n",
       "    }\n",
       "\n",
       "    .dataframe thead th {\n",
       "        text-align: right;\n",
       "    }\n",
       "</style>\n",
       "<table border=\"1\" class=\"dataframe\">\n",
       "  <thead>\n",
       "    <tr style=\"text-align: right;\">\n",
       "      <th></th>\n",
       "      <th>accountAge</th>\n",
       "      <th>digitalItemCount</th>\n",
       "      <th>sumPurchaseCount1Day</th>\n",
       "      <th>sumPurchaseAmount1Day</th>\n",
       "      <th>sumPurchaseAmount30Day</th>\n",
       "      <th>paymentBillingPostalCode - LogOddsForClass_0</th>\n",
       "      <th>accountPostalCode - LogOddsForClass_0</th>\n",
       "      <th>paymentBillingState - LogOddsForClass_0</th>\n",
       "      <th>accountState - LogOddsForClass_0</th>\n",
       "      <th>paymentInstrumentAgeInAccount</th>\n",
       "      <th>ipState - LogOddsForClass_0</th>\n",
       "      <th>transactionAmount</th>\n",
       "      <th>transactionAmountUSD</th>\n",
       "      <th>ipPostalCode - LogOddsForClass_0</th>\n",
       "      <th>localHour - LogOddsForClass_0</th>\n",
       "      <th>Label</th>\n",
       "    </tr>\n",
       "  </thead>\n",
       "  <tbody>\n",
       "    <tr>\n",
       "      <th>19</th>\n",
       "      <td>2000</td>\n",
       "      <td>1</td>\n",
       "      <td>0</td>\n",
       "      <td>0.00</td>\n",
       "      <td>0.00</td>\n",
       "      <td>5.412885</td>\n",
       "      <td>0.342945</td>\n",
       "      <td>5.563677</td>\n",
       "      <td>3.229257</td>\n",
       "      <td>0.000000</td>\n",
       "      <td>2.558238</td>\n",
       "      <td>399.99</td>\n",
       "      <td>399.99</td>\n",
       "      <td>5.008490</td>\n",
       "      <td>4.962055</td>\n",
       "      <td>1</td>\n",
       "    </tr>\n",
       "    <tr>\n",
       "      <th>219</th>\n",
       "      <td>1049</td>\n",
       "      <td>1</td>\n",
       "      <td>0</td>\n",
       "      <td>0.00</td>\n",
       "      <td>0.00</td>\n",
       "      <td>5.064533</td>\n",
       "      <td>5.096396</td>\n",
       "      <td>3.444986</td>\n",
       "      <td>3.644960</td>\n",
       "      <td>0.000000</td>\n",
       "      <td>4.315365</td>\n",
       "      <td>1200.68</td>\n",
       "      <td>1200.68</td>\n",
       "      <td>3.291383</td>\n",
       "      <td>4.876771</td>\n",
       "      <td>1</td>\n",
       "    </tr>\n",
       "    <tr>\n",
       "      <th>324</th>\n",
       "      <td>1</td>\n",
       "      <td>1</td>\n",
       "      <td>1</td>\n",
       "      <td>18.35</td>\n",
       "      <td>0.00</td>\n",
       "      <td>5.064533</td>\n",
       "      <td>0.342945</td>\n",
       "      <td>4.911509</td>\n",
       "      <td>4.992339</td>\n",
       "      <td>0.002083</td>\n",
       "      <td>4.871762</td>\n",
       "      <td>69.99</td>\n",
       "      <td>69.99</td>\n",
       "      <td>4.471940</td>\n",
       "      <td>4.962055</td>\n",
       "      <td>1</td>\n",
       "    </tr>\n",
       "    <tr>\n",
       "      <th>1161</th>\n",
       "      <td>2000</td>\n",
       "      <td>0</td>\n",
       "      <td>0</td>\n",
       "      <td>0.00</td>\n",
       "      <td>64.19</td>\n",
       "      <td>5.064533</td>\n",
       "      <td>0.597837</td>\n",
       "      <td>4.118442</td>\n",
       "      <td>4.207963</td>\n",
       "      <td>281.365278</td>\n",
       "      <td>4.871762</td>\n",
       "      <td>64.19</td>\n",
       "      <td>64.19</td>\n",
       "      <td>4.471940</td>\n",
       "      <td>4.886641</td>\n",
       "      <td>1</td>\n",
       "    </tr>\n",
       "    <tr>\n",
       "      <th>3484</th>\n",
       "      <td>1751</td>\n",
       "      <td>0</td>\n",
       "      <td>4</td>\n",
       "      <td>1307.96</td>\n",
       "      <td>1980.46</td>\n",
       "      <td>0.475424</td>\n",
       "      <td>0.448025</td>\n",
       "      <td>4.911509</td>\n",
       "      <td>4.992339</td>\n",
       "      <td>1.294444</td>\n",
       "      <td>2.127196</td>\n",
       "      <td>326.99</td>\n",
       "      <td>326.99</td>\n",
       "      <td>2.068512</td>\n",
       "      <td>4.524580</td>\n",
       "      <td>1</td>\n",
       "    </tr>\n",
       "  </tbody>\n",
       "</table>\n",
       "</div>"
      ],
      "text/plain": [
       "      accountAge  digitalItemCount  sumPurchaseCount1Day  \\\n",
       "19          2000                 1                     0   \n",
       "219         1049                 1                     0   \n",
       "324            1                 1                     1   \n",
       "1161        2000                 0                     0   \n",
       "3484        1751                 0                     4   \n",
       "\n",
       "      sumPurchaseAmount1Day  sumPurchaseAmount30Day  \\\n",
       "19                     0.00                    0.00   \n",
       "219                    0.00                    0.00   \n",
       "324                   18.35                    0.00   \n",
       "1161                   0.00                   64.19   \n",
       "3484                1307.96                 1980.46   \n",
       "\n",
       "      paymentBillingPostalCode - LogOddsForClass_0  \\\n",
       "19                                        5.412885   \n",
       "219                                       5.064533   \n",
       "324                                       5.064533   \n",
       "1161                                      5.064533   \n",
       "3484                                      0.475424   \n",
       "\n",
       "      accountPostalCode - LogOddsForClass_0  \\\n",
       "19                                 0.342945   \n",
       "219                                5.096396   \n",
       "324                                0.342945   \n",
       "1161                               0.597837   \n",
       "3484                               0.448025   \n",
       "\n",
       "      paymentBillingState - LogOddsForClass_0  \\\n",
       "19                                   5.563677   \n",
       "219                                  3.444986   \n",
       "324                                  4.911509   \n",
       "1161                                 4.118442   \n",
       "3484                                 4.911509   \n",
       "\n",
       "      accountState - LogOddsForClass_0  paymentInstrumentAgeInAccount  \\\n",
       "19                            3.229257                       0.000000   \n",
       "219                           3.644960                       0.000000   \n",
       "324                           4.992339                       0.002083   \n",
       "1161                          4.207963                     281.365278   \n",
       "3484                          4.992339                       1.294444   \n",
       "\n",
       "      ipState - LogOddsForClass_0  transactionAmount  transactionAmountUSD  \\\n",
       "19                       2.558238             399.99                399.99   \n",
       "219                      4.315365            1200.68               1200.68   \n",
       "324                      4.871762              69.99                 69.99   \n",
       "1161                     4.871762              64.19                 64.19   \n",
       "3484                     2.127196             326.99                326.99   \n",
       "\n",
       "      ipPostalCode - LogOddsForClass_0  localHour - LogOddsForClass_0  Label  \n",
       "19                            5.008490                       4.962055      1  \n",
       "219                           3.291383                       4.876771      1  \n",
       "324                           4.471940                       4.962055      1  \n",
       "1161                          4.471940                       4.886641      1  \n",
       "3484                          2.068512                       4.524580      1  "
      ]
     },
     "execution_count": 4,
     "metadata": {},
     "output_type": "execute_result"
    }
   ],
   "source": [
    "df[df.Label==1].head()"
   ]
  },
  {
   "cell_type": "code",
   "execution_count": 5,
   "metadata": {},
   "outputs": [
    {
     "data": {
      "text/plain": [
       "((138721, 16), 797, 0.0057453449730033666)"
      ]
     },
     "execution_count": 5,
     "metadata": {},
     "output_type": "execute_result"
    }
   ],
   "source": [
    "df.shape, df.Label.sum(), df.Label.mean()"
   ]
  },
  {
   "cell_type": "markdown",
   "metadata": {},
   "source": [
    "# Exercise 15.1\n",
    "\n",
    "Partir train test desde el principio semilla aleatoria 42\n",
    "Estimate a Logistic Regression and a Decision Tree y random forest\n",
    "\n",
    "Evaluate using the following metrics:\n",
    "* Accuracy\n",
    "* F1-Score\n",
    "* F_Beta-Score (Beta=10)\n",
    "\n",
    "Comment about the results"
   ]
  },
  {
   "cell_type": "code",
   "execution_count": 6,
   "metadata": {},
   "outputs": [],
   "source": [
    "X=df.drop(['Label'],axis=1)"
   ]
  },
  {
   "cell_type": "code",
   "execution_count": 7,
   "metadata": {},
   "outputs": [],
   "source": [
    "y=df.Label\n",
    "#print(y.head())"
   ]
  },
  {
   "cell_type": "code",
   "execution_count": 8,
   "metadata": {},
   "outputs": [],
   "source": [
    "from sklearn.model_selection import train_test_split\n",
    "X_train, X_test, y_train, y_test = train_test_split(X, y, test_size=0.3, random_state=42)\n",
    "#X_test.index"
   ]
  },
  {
   "cell_type": "code",
   "execution_count": 9,
   "metadata": {},
   "outputs": [
    {
     "data": {
      "text/plain": [
       "6891      0\n",
       "116379    0\n",
       "131418    0\n",
       "63800     0\n",
       "59692     0\n",
       "Name: Label, dtype: int64"
      ]
     },
     "execution_count": 9,
     "metadata": {},
     "output_type": "execute_result"
    }
   ],
   "source": [
    "y_train[y_train==0].head()"
   ]
  },
  {
   "cell_type": "code",
   "execution_count": 10,
   "metadata": {},
   "outputs": [],
   "source": [
    "#Modelos\n",
    "models = {'lr': LogisticRegression(solver='lbfgs'),\n",
    "          'dt': DecisionTreeClassifier(),\n",
    "          'rf': RandomForestClassifier()}"
   ]
  },
  {
   "cell_type": "code",
   "execution_count": 11,
   "metadata": {},
   "outputs": [
    {
     "name": "stderr",
     "output_type": "stream",
     "text": [
      "C:\\Users\\Usuario\\Anaconda3\\lib\\site-packages\\sklearn\\linear_model\\logistic.py:758: ConvergenceWarning: lbfgs failed to converge. Increase the number of iterations.\n",
      "  \"of iterations.\", ConvergenceWarning)\n",
      "C:\\Users\\Usuario\\Anaconda3\\lib\\site-packages\\sklearn\\ensemble\\forest.py:246: FutureWarning: The default value of n_estimators will change from 10 in version 0.20 to 100 in 0.22.\n",
      "  \"10 in version 0.20 to 100 in 0.22.\", FutureWarning)\n"
     ]
    }
   ],
   "source": [
    "for model in models.keys():\n",
    "    models[model].fit(X_train, y_train)"
   ]
  },
  {
   "cell_type": "code",
   "execution_count": 12,
   "metadata": {},
   "outputs": [
    {
     "name": "stdout",
     "output_type": "stream",
     "text": [
      "       lr  dt  rf\n",
      "41509   0   1   0\n",
      "86484   0   1   0\n",
      "198     0   1   0\n",
      "49461   0   1   1\n",
      "30004   0   1   1\n"
     ]
    }
   ],
   "source": [
    "#Calculo de y_pred\n",
    "y_pred = pd.DataFrame(index=X_test.index, columns=models.keys())\n",
    "for model in models.keys():\n",
    "    y_pred[model] = models[model].predict(X_test)\n",
    "print(y_pred[y_pred.dt==1].head())"
   ]
  },
  {
   "cell_type": "code",
   "execution_count": 13,
   "metadata": {},
   "outputs": [
    {
     "name": "stdout",
     "output_type": "stream",
     "text": [
      "              lr        dt        rf\n",
      "acc     0.994113  0.989163  0.994113\n",
      "f_1            0  0.137667  0.115523\n",
      "f_beta         0  0.129649  0.469086\n"
     ]
    },
    {
     "name": "stderr",
     "output_type": "stream",
     "text": [
      "C:\\Users\\Usuario\\Anaconda3\\lib\\site-packages\\sklearn\\metrics\\classification.py:1145: UndefinedMetricWarning: F-score is ill-defined and being set to 0.0 due to no true samples.\n",
      "  'recall', 'true', average, warn_for)\n"
     ]
    }
   ],
   "source": [
    "y_table = pd.DataFrame(index=['acc','f_1','f_beta'], columns=models.keys())\n",
    "for model in models.keys():\n",
    "    y_table[model][0] = metrics.accuracy_score(y_pred[model], y_test)\n",
    "    y_table[model][1] = metrics.f1_score(y_pred[model], y_test)\n",
    "    y_table[model][2] = metrics.fbeta_score(y_pred[model], y_test,beta=10)\n",
    "print(y_table)"
   ]
  },
  {
   "cell_type": "code",
   "execution_count": 14,
   "metadata": {},
   "outputs": [
    {
     "name": "stdout",
     "output_type": "stream",
     "text": [
      " acc_lr: 0.994112982675349 \n",
      " acc_dt: 0.9891630823942139 \n",
      " acc_rf: 0.994112982675349\n"
     ]
    }
   ],
   "source": [
    "print (' acc_lr:',metrics.accuracy_score(y_pred['lr'], y_test),'\\n','acc_dt:',metrics.accuracy_score(y_pred['dt'], y_test),'\\n','acc_rf:',metrics.accuracy_score(y_pred['rf'], y_test))"
   ]
  },
  {
   "cell_type": "markdown",
   "metadata": {},
   "source": [
    "Teniendo en cuenta que la proporción de labels con valor de 1 es mínima, las precisiones para cada uno de los tres métodos son muy altas, lo que nos podría hacer incurrir en el error de que tenemos un buen modelo si no se considera el desbalance que hay entre las dos series de datos, para este caso las series de 1 y 0."
   ]
  },
  {
   "cell_type": "code",
   "execution_count": 15,
   "metadata": {},
   "outputs": [
    {
     "name": "stdout",
     "output_type": "stream",
     "text": [
      " f1_lr: 0.0 \n",
      " f1_dt: 0.13766730401529637 \n",
      " f1_rf: 0.11552346570397112\n"
     ]
    }
   ],
   "source": [
    "print (' f1_lr:',metrics.f1_score(y_pred['lr'], y_test),'\\n','f1_dt:',metrics.f1_score(y_pred['dt'], y_test),'\\n','f1_rf:',metrics.f1_score(y_pred['rf'], y_test))"
   ]
  },
  {
   "cell_type": "code",
   "execution_count": 16,
   "metadata": {
    "scrolled": true
   },
   "outputs": [
    {
     "name": "stdout",
     "output_type": "stream",
     "text": [
      " fbeta_lr: 0.0 \n",
      " fbeta_dt: 0.12964877874844 \n",
      " fbeta_rf: 0.4690856313497824\n"
     ]
    }
   ],
   "source": [
    "print(' fbeta_lr:',metrics.fbeta_score(y_pred['lr'], y_test,beta=10),'\\n','fbeta_dt:',metrics.fbeta_score(y_pred['dt'], y_test,beta=10),'\\n','fbeta_rf:',metrics.fbeta_score(y_pred['rf'], y_test,beta=10))"
   ]
  },
  {
   "cell_type": "code",
   "execution_count": 17,
   "metadata": {},
   "outputs": [],
   "source": [
    "# Instanciate a PCA object for the sake of easy visualisation\n",
    "pca = PCA(n_components = 2)\n",
    "\n",
    "# Fit and transform x to visualise inside a 2D feature space\n",
    "x_vis = pca.fit_transform(X_train)\n",
    "x_vis_test=pca.fit_transform(X_test)"
   ]
  },
  {
   "cell_type": "markdown",
   "metadata": {},
   "source": [
    "Con el cálculo del fbeta y los valores que está tomando se concluye que se está teniendo en cuenta mucho más la precisión que la sensitividad del modelo, y que esto demuestra que la precisión del modelo no es tan alta como se creía de manera errónea inicialmente.\n",
    "\n",
    "Para los tres métodos selecciondos se establece que el que brinda peores indicadores de desempeño es la regresión logarítmica, y que la que ofrece mejores o más aceptables resultados es el Random Forests."
   ]
  },
  {
   "cell_type": "markdown",
   "metadata": {},
   "source": [
    "# Exercise 15.2\n",
    "\n",
    "Under-sample the negative class using random-under-sampling\n",
    "\n",
    "Which is parameter for target_percentage did you choose?\n",
    "How the results change?\n",
    "\n",
    "**Only apply under-sampling to the training set, evaluate using the whole test set**"
   ]
  },
  {
   "cell_type": "markdown",
   "metadata": {},
   "source": [
    "Definición de funciones para under-sampling"
   ]
  },
  {
   "cell_type": "code",
   "execution_count": 18,
   "metadata": {},
   "outputs": [],
   "source": [
    "def plot_two_classes(X, y, subplot=False, size=(10, 10)):\n",
    "    # Plot the two classes\n",
    "    if subplot == False:\n",
    "        fig, subplot = plt.subplots(nrows=1, ncols=1, figsize=size)\n",
    "        \n",
    "    subplot.scatter(X[y==0, 0], X[y==0, 1], label=\"Class #0\", \n",
    "                    alpha=0.5, s=70)\n",
    "    subplot.scatter(X[y==1, 0], X[y==1, 1], label=\"Class #1\", \n",
    "                    alpha=0.5, s=70)\n",
    "    subplot.legend()\n",
    "    return subplot"
   ]
  },
  {
   "cell_type": "code",
   "execution_count": 19,
   "metadata": {},
   "outputs": [],
   "source": [
    "def UnderSampling(X, y, target_percentage=0.5, seed=None):\n",
    "    # Assuming minority class is the positive\n",
    "    n_samples = y.shape[0]\n",
    "    n_samples_0 = (y == 0).sum()\n",
    "    n_samples_1 = (y == 1).sum()\n",
    "\n",
    "    n_samples_0_new =  n_samples_1 / target_percentage - n_samples_1\n",
    "    n_samples_0_new_per = n_samples_0_new / n_samples_0\n",
    "\n",
    "    filter_ = y == 0\n",
    "\n",
    "    np.random.seed(seed)\n",
    "    rand_1 = np.random.binomial(n=1, p=n_samples_0_new_per, size=n_samples)\n",
    "    \n",
    "    filter_ = filter_ & rand_1\n",
    "    filter_ = filter_ | (y == 1)\n",
    "    filter_ = filter_.astype(bool)\n",
    "    \n",
    "    return X[filter_], y[filter_]"
   ]
  },
  {
   "cell_type": "markdown",
   "metadata": {},
   "source": [
    "Realizando under-sampling a training data"
   ]
  },
  {
   "cell_type": "code",
   "execution_count": 20,
   "metadata": {},
   "outputs": [
    {
     "name": "stdout",
     "output_type": "stream",
     "text": [
      "96552\n",
      "552\n",
      "97104\n"
     ]
    }
   ],
   "source": [
    "print(X_train[y_train==0].shape[0])\n",
    "print(X_train[y_train==1].shape[0])\n",
    "print(y_train.shape[0])"
   ]
  },
  {
   "cell_type": "code",
   "execution_count": 21,
   "metadata": {},
   "outputs": [
    {
     "name": "stdout",
     "output_type": "stream",
     "text": [
      "5409\n",
      "552\n"
     ]
    }
   ],
   "source": [
    "#Ejemplo de como funciona el undersampling\n",
    "X_u_train, y_u_train = UnderSampling(X_train, y_train, 0.1, 42)\n",
    "print(X_u_train.shape[0])\n",
    "print(X_u_train[y_u_train==1].shape[0])"
   ]
  },
  {
   "cell_type": "markdown",
   "metadata": {},
   "source": [
    "## undersampling al training set"
   ]
  },
  {
   "cell_type": "code",
   "execution_count": 22,
   "metadata": {
    "scrolled": false
   },
   "outputs": [
    {
     "name": "stdout",
     "output_type": "stream",
     "text": [
      "Target percentage 0.1\n",
      "Tamaño de X: 5497\n"
     ]
    },
    {
     "data": {
      "image/png": "[encoded data removed]",
      "text/plain": [
       "<Figure size 360x360 with 1 Axes>"
      ]
     },
     "metadata": {
      "needs_background": "light"
     },
     "output_type": "display_data"
    },
    {
     "name": "stdout",
     "output_type": "stream",
     "text": [
      " acc_lr: 0.9933680947689646 \n",
      " acc_dt: 0.9720546891895139 \n",
      " acc_rf: 0.9880817934978494\n",
      " f1_lr: 0.007194244604316547 \n",
      " f1_dt: 0.03485477178423236 \n",
      " f1_rf: 0.035019455252918295\n",
      " fbeta_lr: 0.028490832157968975 \n",
      " fbeta_dt: 0.02203750844199699 \n",
      " fbeta_rf: 0.033486829987106274 \n",
      "\n",
      "Target percentage 0.2\n",
      "Tamaño de X: 2755\n"
     ]
    },
    {
     "data": {
      "image/png": "[encoded data removed]",
      "text/plain": [
       "<Figure size 360x360 with 1 Axes>"
      ]
     },
     "metadata": {
      "needs_background": "light"
     },
     "output_type": "display_data"
    },
    {
     "name": "stdout",
     "output_type": "stream",
     "text": [
      " acc_lr: 0.9879856789292837 \n",
      " acc_dt: 0.9675132758247832 \n",
      " acc_rf: 0.9765961025542447\n",
      " f1_lr: 0.007936507936507938 \n",
      " f1_dt: 0.02170767004341534 \n",
      " f1_rf: 0.03180914512922465\n",
      " fbeta_lr: 0.007726142665901703 \n",
      " fbeta_dt: 0.0132958883671947 \n",
      " fbeta_rf: 0.021167070535071063 \n",
      "\n",
      "Target percentage 0.3\n",
      "Tamaño de X: 1790\n"
     ]
    },
    {
     "data": {
      "image/png": "[encoded data removed]",
      "text/plain": [
       "<Figure size 360x360 with 1 Axes>"
      ]
     },
     "metadata": {
      "needs_background": "light"
     },
     "output_type": "display_data"
    },
    {
     "name": "stdout",
     "output_type": "stream",
     "text": [
      " acc_lr: 0.9801763702333182 \n",
      " acc_dt: 0.8601052454525795 \n",
      " acc_rf: 0.9150347213878943\n",
      " f1_lr: 0.030552291421856642 \n",
      " f1_dt: 0.014222824246528954 \n",
      " f1_rf: 0.012290502793296089\n",
      " fbeta_lr: 0.021579423124332323 \n",
      " fbeta_dt: 0.007490134105536378 \n",
      " fbeta_rf: 0.006657777644608908 \n",
      "\n",
      "Target percentage 0.4\n",
      "Tamaño de X: 1333\n"
     ]
    },
    {
     "data": {
      "image/png": "[encoded data removed]",
      "text/plain": [
       "<Figure size 360x360 with 1 Axes>"
      ]
     },
     "metadata": {
      "needs_background": "light"
     },
     "output_type": "display_data"
    },
    {
     "name": "stdout",
     "output_type": "stream",
     "text": [
      " acc_lr: 0.9612658288680107 \n",
      " acc_dt: 0.9336328904053632 \n",
      " acc_rf: 0.936348126967345\n",
      " f1_lr: 0.027744270205066344 \n",
      " f1_dt: 0.02609308885754584 \n",
      " f1_rf: 0.020702402957486134\n",
      " fbeta_lr: 0.01641174184888198 \n",
      " fbeta_dt: 0.014409377470165225 \n",
      " fbeta_rf: 0.011484497147150195 \n",
      "\n",
      "Target percentage 0.5\n",
      "Tamaño de X: 1079\n"
     ]
    },
    {
     "data": {
      "image/png": "[encoded data removed]",
      "text/plain": [
       "<Figure size 360x360 with 1 Axes>"
      ]
     },
     "metadata": {
      "needs_background": "light"
     },
     "output_type": "display_data"
    },
    {
     "name": "stdout",
     "output_type": "stream",
     "text": [
      " acc_lr: 0.7872984597640388 \n",
      " acc_dt: 0.8411466468029891 \n",
      " acc_rf: 0.8653675180815532\n",
      " f1_lr: 0.017754105636928537 \n",
      " f1_dt: 0.01665922951063513 \n",
      " f1_rf: 0.014770529277299101\n",
      " fbeta_lr: 0.009213804742600732 \n",
      " fbeta_dt: 0.008727788965272473 \n",
      " fbeta_rf: 0.007791420620999365 \n",
      "\n"
     ]
    }
   ],
   "source": [
    "for target_percentage in [0.1, 0.2, 0.3, 0.4, 0.5]:\n",
    "    X_u_train, y_u_train = UnderSampling(x_vis, y_train, target_percentage, 1)\n",
    "    for model in models.keys():\n",
    "        models[model].fit(X_u_train, y_u_train)\n",
    "    y_pred_p2 = pd.DataFrame(index=X_test.index, columns=models.keys())\n",
    "    y_table2 = pd.DataFrame(index=['acc_p2','f1_p2','f_beta_p2'],columns=models.keys())\n",
    "    for model in models.keys():\n",
    "        y_pred_p2[model] = models[model].predict(x_vis_test)\n",
    "        y_table2[model][0] = metrics.accuracy_score(y_pred_p2[model], y_test)\n",
    "        y_table2[model][1]= metrics.f1_score(y_pred_p2[model], y_test)\n",
    "        y_table2[model][2]= metrics.fbeta_score(y_pred_p2[model], y_test,beta=10)\n",
    "    print('Target percentage', target_percentage)\n",
    "    print('Tamaño de X:' ,X_u_train.shape[0])\n",
    "    plot_two_classes(X_u_train, y_u_train, size=(5, 5))\n",
    "    plt.show() \n",
    "    print (' acc_lr:',metrics.accuracy_score(y_pred_p2['lr'], y_test),'\\n','acc_dt:',metrics.accuracy_score(y_pred_p2['dt'], y_test),'\\n','acc_rf:',metrics.accuracy_score(y_pred_p2['rf'], y_test))\n",
    "    print (' f1_lr:',metrics.f1_score(y_pred_p2['lr'], y_test),'\\n','f1_dt:',metrics.f1_score(y_pred_p2['dt'], y_test),'\\n','f1_rf:',metrics.f1_score(y_pred_p2['rf'], y_test))\n",
    "    print(' fbeta_lr:',metrics.fbeta_score(y_pred_p2['lr'], y_test,beta=10),'\\n','fbeta_dt:',metrics.fbeta_score(y_pred_p2['dt'], y_test,beta=10),'\\n','fbeta_rf:',metrics.fbeta_score(y_pred_p2['rf'], y_test,beta=10),'\\n')"
   ]
  },
  {
   "cell_type": "code",
   "execution_count": 23,
   "metadata": {},
   "outputs": [
    {
     "data": {
      "text/html": [
       "<div>\n",
       "<style scoped>\n",
       "    .dataframe tbody tr th:only-of-type {\n",
       "        vertical-align: middle;\n",
       "    }\n",
       "\n",
       "    .dataframe tbody tr th {\n",
       "        vertical-align: top;\n",
       "    }\n",
       "\n",
       "    .dataframe thead th {\n",
       "        text-align: right;\n",
       "    }\n",
       "</style>\n",
       "<table border=\"1\" class=\"dataframe\">\n",
       "  <thead>\n",
       "    <tr style=\"text-align: right;\">\n",
       "      <th></th>\n",
       "      <th>lr</th>\n",
       "      <th>dt</th>\n",
       "      <th>rf</th>\n",
       "    </tr>\n",
       "  </thead>\n",
       "  <tbody>\n",
       "    <tr>\n",
       "      <th>acc_p2</th>\n",
       "      <td>0.787298</td>\n",
       "      <td>0.841147</td>\n",
       "      <td>0.865368</td>\n",
       "    </tr>\n",
       "    <tr>\n",
       "      <th>f1_p2</th>\n",
       "      <td>0.0177541</td>\n",
       "      <td>0.0166592</td>\n",
       "      <td>0.0147705</td>\n",
       "    </tr>\n",
       "    <tr>\n",
       "      <th>f_beta_p2</th>\n",
       "      <td>0.0092138</td>\n",
       "      <td>0.00872779</td>\n",
       "      <td>0.00779142</td>\n",
       "    </tr>\n",
       "  </tbody>\n",
       "</table>\n",
       "</div>"
      ],
      "text/plain": [
       "                  lr          dt          rf\n",
       "acc_p2      0.787298    0.841147    0.865368\n",
       "f1_p2      0.0177541   0.0166592   0.0147705\n",
       "f_beta_p2  0.0092138  0.00872779  0.00779142"
      ]
     },
     "execution_count": 23,
     "metadata": {},
     "output_type": "execute_result"
    }
   ],
   "source": [
    "y_table2"
   ]
  },
  {
   "cell_type": "markdown",
   "metadata": {},
   "source": [
    "En la medida en que se va realizando tratamiento a los para descompensar su desbalanceo a travès del método de over sampling que se encarga de acomoda la serie de datos con menor número de observaciones a la de mayor número de observaciones es evidente que las mètricas de desempeño nos van acercandó más a la realidad de ese problem de desbalanceo. Se sigue comprobando que el accuracy no es una medida confiable ya que no tiene en cuenta la desproporción en los tamaños de las series que se están comparando.\n",
    "\n",
    "Teniendo en cuenta que el fbeta es el método que más está castigando al modelo se considera que está centrando sus esfuerzos en los falsos negativos, que se convierten en los verdaderos elementos relevantes del modelo. Al final de esto, se concluye que el random forests sigue siendo el mètodo que más castiga este desbalance."
   ]
  },
  {
   "cell_type": "markdown",
   "metadata": {},
   "source": [
    "# Exercise 15.3\n",
    "\n",
    "Same analysis using random-over-sampling"
   ]
  },
  {
   "cell_type": "markdown",
   "metadata": {},
   "source": [
    "Definición función oversampling"
   ]
  },
  {
   "cell_type": "code",
   "execution_count": 24,
   "metadata": {},
   "outputs": [],
   "source": [
    "import random\n",
    "def OverSampling(X, y, target_percentage=0.5, seed=None):\n",
    "    # Assuming minority class is the positive\n",
    "    n_samples = y.shape[0]\n",
    "    n_samples_0 = (y == 0).sum()\n",
    "    n_samples_1 = (y == 1).sum()\n",
    "\n",
    "    n_samples_1_new =  -target_percentage * n_samples_0 / (target_percentage- 1)\n",
    "    n_samples_1_new =int(n_samples_1_new)\n",
    "\n",
    "    np.random.seed(seed)\n",
    "    filter_ = np.random.choice(X[y == 1].shape[0], int(n_samples_1_new))\n",
    "    # filter_ is within the positives, change to be of all\n",
    "    filter_ = np.nonzero(y == 1)[0][filter_]\n",
    "    \n",
    "    filter_ = np.concatenate((filter_, np.nonzero(y == 0)[0]), axis=0)\n",
    "    return X[filter_], y[filter_]"
   ]
  },
  {
   "cell_type": "markdown",
   "metadata": {},
   "source": [
    "## oversampling al training set"
   ]
  },
  {
   "cell_type": "code",
   "execution_count": 25,
   "metadata": {
    "scrolled": false
   },
   "outputs": [
    {
     "name": "stderr",
     "output_type": "stream",
     "text": [
      "C:\\Users\\Usuario\\Anaconda3\\lib\\site-packages\\pandas\\core\\series.py:842: FutureWarning: \n",
      "Passing list-likes to .loc or [] with any missing label will raise\n",
      "KeyError in the future, you can use .reindex() as an alternative.\n",
      "\n",
      "See the documentation here:\n",
      "https://pandas.pydata.org/pandas-docs/stable/indexing.html#deprecate-loc-reindex-listlike\n",
      "  return self.loc[key]\n"
     ]
    },
    {
     "name": "stdout",
     "output_type": "stream",
     "text": [
      "Target percentage 0.1\n",
      "Tamaño de X: 107280\n"
     ]
    },
    {
     "data": {
      "image/png": "[encoded data removed]",
      "text/plain": [
       "<Figure size 360x360 with 1 Axes>"
      ]
     },
     "metadata": {
      "needs_background": "light"
     },
     "output_type": "display_data"
    },
    {
     "name": "stdout",
     "output_type": "stream",
     "text": [
      " acc_lr: 0.9940408967489247 \n",
      " acc_dt: 0.5011413605017181 \n",
      " acc_rf: 0.6019895715693107\n",
      " f1_lr: 0.0 \n",
      " f1_dt: 0.010391343724677057 \n",
      " f1_rf: 0.009567089213106911\n",
      " fbeta_lr: 0.0 \n",
      " fbeta_dt: 0.0053090090155258 \n",
      " fbeta_rf: 0.004902481274402434 \n",
      "\n"
     ]
    },
    {
     "name": "stderr",
     "output_type": "stream",
     "text": [
      "C:\\Users\\Usuario\\Anaconda3\\lib\\site-packages\\pandas\\core\\series.py:842: FutureWarning: \n",
      "Passing list-likes to .loc or [] with any missing label will raise\n",
      "KeyError in the future, you can use .reindex() as an alternative.\n",
      "\n",
      "See the documentation here:\n",
      "https://pandas.pydata.org/pandas-docs/stable/indexing.html#deprecate-loc-reindex-listlike\n",
      "  return self.loc[key]\n"
     ]
    },
    {
     "name": "stdout",
     "output_type": "stream",
     "text": [
      "Target percentage 0.2\n",
      "Tamaño de X: 120690\n"
     ]
    },
    {
     "data": {
      "image/png": "[encoded data removed]",
      "text/plain": [
       "<Figure size 360x360 with 1 Axes>"
      ]
     },
     "metadata": {
      "needs_background": "light"
     },
     "output_type": "display_data"
    },
    {
     "name": "stdout",
     "output_type": "stream",
     "text": [
      " acc_lr: 0.9940408967489247 \n",
      " acc_dt: 0.4586106639113824 \n",
      " acc_rf: 0.9183506740034121\n",
      " f1_lr: 0.0 \n",
      " f1_dt: 0.011841585895355467 \n",
      " f1_rf: 0.012783265543288786\n",
      " fbeta_lr: 0.0 \n",
      " fbeta_dt: 0.006044298256307503 \n",
      " fbeta_rf: 0.0069449436621919405 \n",
      "\n"
     ]
    },
    {
     "name": "stderr",
     "output_type": "stream",
     "text": [
      "C:\\Users\\Usuario\\Anaconda3\\lib\\site-packages\\pandas\\core\\series.py:842: FutureWarning: \n",
      "Passing list-likes to .loc or [] with any missing label will raise\n",
      "KeyError in the future, you can use .reindex() as an alternative.\n",
      "\n",
      "See the documentation here:\n",
      "https://pandas.pydata.org/pandas-docs/stable/indexing.html#deprecate-loc-reindex-listlike\n",
      "  return self.loc[key]\n"
     ]
    },
    {
     "name": "stdout",
     "output_type": "stream",
     "text": [
      "Target percentage 0.3\n",
      "Tamaño de X: 137931\n"
     ]
    },
    {
     "data": {
      "image/png": "[encoded data removed]",
      "text/plain": [
       "<Figure size 360x360 with 1 Axes>"
      ]
     },
     "metadata": {
      "needs_background": "light"
     },
     "output_type": "display_data"
    },
    {
     "name": "stdout",
     "output_type": "stream",
     "text": [
      " acc_lr: 0.08018357882596054 \n",
      " acc_dt: 0.4441694499843814 \n",
      " acc_rf: 0.9486748203859\n",
      " f1_lr: 0.01054590570719603 \n",
      " f1_dt: 0.010691985287828243 \n",
      " f1_rf: 0.01747930082796688\n",
      " fbeta_lr: 0.005359281787571741 \n",
      " fbeta_dt: 0.005456050165410154 \n",
      " fbeta_rf: 0.009935540655983847 \n",
      "\n"
     ]
    },
    {
     "name": "stderr",
     "output_type": "stream",
     "text": [
      "C:\\Users\\Usuario\\Anaconda3\\lib\\site-packages\\pandas\\core\\series.py:842: FutureWarning: \n",
      "Passing list-likes to .loc or [] with any missing label will raise\n",
      "KeyError in the future, you can use .reindex() as an alternative.\n",
      "\n",
      "See the documentation here:\n",
      "https://pandas.pydata.org/pandas-docs/stable/indexing.html#deprecate-loc-reindex-listlike\n",
      "  return self.loc[key]\n"
     ]
    },
    {
     "name": "stdout",
     "output_type": "stream",
     "text": [
      "Target percentage 0.4\n",
      "Tamaño de X: 160920\n"
     ]
    },
    {
     "data": {
      "image/png": "[encoded data removed]",
      "text/plain": [
       "<Figure size 360x360 with 1 Axes>"
      ]
     },
     "metadata": {
      "needs_background": "light"
     },
     "output_type": "display_data"
    },
    {
     "name": "stdout",
     "output_type": "stream",
     "text": [
      " acc_lr: 0.16526900064877334 \n",
      " acc_dt: 0.5014297042074153 \n",
      " acc_rf: 0.962731576038638\n",
      " f1_lr: 0.01082035365471682 \n",
      " f1_dt: 0.011246128186800096 \n",
      " f1_rf: 0.015238095238095238\n",
      " fbeta_lr: 0.005502280191934672 \n",
      " fbeta_dt: 0.005745705063770192 \n",
      " fbeta_rf: 0.009096026117302713 \n",
      "\n"
     ]
    },
    {
     "name": "stderr",
     "output_type": "stream",
     "text": [
      "C:\\Users\\Usuario\\Anaconda3\\lib\\site-packages\\pandas\\core\\series.py:842: FutureWarning: \n",
      "Passing list-likes to .loc or [] with any missing label will raise\n",
      "KeyError in the future, you can use .reindex() as an alternative.\n",
      "\n",
      "See the documentation here:\n",
      "https://pandas.pydata.org/pandas-docs/stable/indexing.html#deprecate-loc-reindex-listlike\n",
      "  return self.loc[key]\n"
     ]
    },
    {
     "name": "stdout",
     "output_type": "stream",
     "text": [
      "Target percentage 0.5\n",
      "Tamaño de X: 193104\n"
     ]
    },
    {
     "data": {
      "image/png": "[encoded data removed]",
      "text/plain": [
       "<Figure size 360x360 with 1 Axes>"
      ]
     },
     "metadata": {
      "needs_background": "light"
     },
     "output_type": "display_data"
    },
    {
     "name": "stdout",
     "output_type": "stream",
     "text": [
      " acc_lr: 0.993728524401086 \n",
      " acc_dt: 0.46420933753033616 \n",
      " acc_rf: 0.9554028401855011\n",
      " f1_lr: 0.0 \n",
      " f1_dt: 0.010911994322214335 \n",
      " f1_rf: 0.014861995753715497\n",
      " fbeta_lr: 0.0 \n",
      " fbeta_dt: 0.005570489811200617 \n",
      " fbeta_rf: 0.008614334886837856 \n",
      "\n"
     ]
    }
   ],
   "source": [
    "for target_percentage in [0.1, 0.2, 0.3, 0.4, 0.5]:\n",
    "    X_o_train, y_o_train = OverSampling(x_vis, y_train, target_percentage, 42)\n",
    "    y_o_train.isnull()\n",
    "    y_o_train.fillna(1, inplace=True)\n",
    "    for model in models.keys():\n",
    "        models[model].fit(X_o_train, y_o_train)\n",
    "    y_pred_p3 = pd.DataFrame(index=X_test.index, columns=models.keys())\n",
    "    y_table3 = pd.DataFrame(index=['acc_p3','f1_p3','f_beta_p3'],columns=models.keys())\n",
    "    for model in models.keys():\n",
    "        y_pred_p3[model] = models[model].predict(x_vis_test)\n",
    "        y_table3[model][0] = metrics.accuracy_score(y_pred_p3[model], y_test)\n",
    "        y_table3[model][1]= metrics.f1_score(y_pred_p3[model], y_test)\n",
    "        y_table3[model][2]= metrics.fbeta_score(y_pred_p3[model], y_test,beta=10)\n",
    "         \n",
    "    print('Target percentage', target_percentage)\n",
    "    print('Tamaño de X:' ,X_o_train.shape[0])\n",
    "    plot_two_classes(X_o_train, y_o_train, size=(5, 5))\n",
    "    plt.show()\n",
    "    print (' acc_lr:',metrics.accuracy_score(y_pred_p3['lr'], y_test),'\\n','acc_dt:',metrics.accuracy_score(y_pred_p3['dt'], y_test),'\\n','acc_rf:',metrics.accuracy_score(y_pred_p3['rf'], y_test))\n",
    "    print (' f1_lr:',metrics.f1_score(y_pred_p3['lr'], y_test),'\\n','f1_dt:',metrics.f1_score(y_pred_p3['dt'], y_test),'\\n','f1_rf:',metrics.f1_score(y_pred_p3['rf'], y_test))\n",
    "    print(' fbeta_lr:',metrics.fbeta_score(y_pred_p3['lr'], y_test,beta=10),'\\n','fbeta_dt:',metrics.fbeta_score(y_pred_p3['dt'], y_test,beta=10),'\\n','fbeta_rf:',metrics.fbeta_score(y_pred_p3['rf'], y_test,beta=10),'\\n')\n",
    "    "
   ]
  },
  {
   "cell_type": "code",
   "execution_count": 26,
   "metadata": {},
   "outputs": [
    {
     "data": {
      "text/html": [
       "<div>\n",
       "<style scoped>\n",
       "    .dataframe tbody tr th:only-of-type {\n",
       "        vertical-align: middle;\n",
       "    }\n",
       "\n",
       "    .dataframe tbody tr th {\n",
       "        vertical-align: top;\n",
       "    }\n",
       "\n",
       "    .dataframe thead th {\n",
       "        text-align: right;\n",
       "    }\n",
       "</style>\n",
       "<table border=\"1\" class=\"dataframe\">\n",
       "  <thead>\n",
       "    <tr style=\"text-align: right;\">\n",
       "      <th></th>\n",
       "      <th>lr</th>\n",
       "      <th>dt</th>\n",
       "      <th>rf</th>\n",
       "    </tr>\n",
       "  </thead>\n",
       "  <tbody>\n",
       "    <tr>\n",
       "      <th>acc_p3</th>\n",
       "      <td>0.993729</td>\n",
       "      <td>0.464209</td>\n",
       "      <td>0.955403</td>\n",
       "    </tr>\n",
       "    <tr>\n",
       "      <th>f1_p3</th>\n",
       "      <td>0</td>\n",
       "      <td>0.010912</td>\n",
       "      <td>0.014862</td>\n",
       "    </tr>\n",
       "    <tr>\n",
       "      <th>f_beta_p3</th>\n",
       "      <td>0</td>\n",
       "      <td>0.00557049</td>\n",
       "      <td>0.00861433</td>\n",
       "    </tr>\n",
       "  </tbody>\n",
       "</table>\n",
       "</div>"
      ],
      "text/plain": [
       "                 lr          dt          rf\n",
       "acc_p3     0.993729    0.464209    0.955403\n",
       "f1_p3             0    0.010912    0.014862\n",
       "f_beta_p3         0  0.00557049  0.00861433"
      ]
     },
     "execution_count": 26,
     "metadata": {},
     "output_type": "execute_result"
    }
   ],
   "source": [
    "y_table3"
   ]
  },
  {
   "cell_type": "markdown",
   "metadata": {},
   "source": [
    "Con el método de over sampling se evidencia que el fbeta para el método de regresión logística es igual a o, y que el valor más alto lo arroja el modelo Random Forests. LOS valores de precisión siguen siendo altos, aunque la \"falsa\" precisión la arroja el método de árboles de decisión."
   ]
  },
  {
   "cell_type": "markdown",
   "metadata": {},
   "source": [
    "# Exercise 15.4 (3 points)\n",
    "\n",
    "Evaluate the results using SMOTE\n",
    "\n",
    "Which parameters did you choose?"
   ]
  },
  {
   "cell_type": "code",
   "execution_count": 27,
   "metadata": {},
   "outputs": [],
   "source": [
    "def SMOTE(X, y, target_percentage=0.5, k=5, seed=None):\n",
    "    \n",
    "    # New samples\n",
    "    n_samples = y.shape[0]\n",
    "    n_samples_0 = (y == 0).sum()\n",
    "    n_samples_1 = (y == 1).sum()    \n",
    "    n_samples_1_new =  int(-target_percentage * n_samples_0 / (target_percentage- 1) - n_samples_1)\n",
    "    \n",
    "    # A matrix to store the synthetic samples\n",
    "    new = np.zeros((n_samples_1_new, x_vis.shape[1]))\n",
    "    \n",
    "    # Create seeds\n",
    "    np.random.seed(seed)\n",
    "    seeds = np.random.randint(1, 1000000, 3)\n",
    "    \n",
    "    # Select examples to use as base\n",
    "    np.random.seed(seeds[0])\n",
    "    sel_ = np.random.choice(y[y==1].shape[0], n_samples_1_new)\n",
    "    \n",
    "    # Define random seeds (2 per example)\n",
    "    np.random.seed(seeds[1])\n",
    "    nn__ = np.random.choice(k, n_samples_1_new)\n",
    "    np.random.seed(seeds[2])\n",
    "    steps = np.random.uniform(size=n_samples_1_new)  \n",
    "\n",
    "    # For each selected examples create one synthetic case\n",
    "    for i, sel in enumerate(sel_):\n",
    "        # Select neighbor\n",
    "        nn_ = nn__[i]\n",
    "        step = steps[i]\n",
    "        # Create new sample\n",
    "        new[i, :] = X[y==1][sel] - step * (X[y==1][sel] - X[y==1][nn_])\n",
    "    \n",
    "    X = np.vstack((X, new))\n",
    "    y = np.append(y, np.ones(n_samples_1_new))\n",
    "    \n",
    "    return X, y"
   ]
  },
  {
   "cell_type": "code",
   "execution_count": 28,
   "metadata": {
    "scrolled": false
   },
   "outputs": [
    {
     "name": "stdout",
     "output_type": "stream",
     "text": [
      "Target percentage 0.25 k  5\n",
      "y.shape =  128736 y.mean() =  0.25\n"
     ]
    },
    {
     "data": {
      "image/png": "[encoded data removed]",
      "text/plain": [
       "<Figure size 360x360 with 1 Axes>"
      ]
     },
     "metadata": {
      "needs_background": "light"
     },
     "output_type": "display_data"
    },
    {
     "name": "stdout",
     "output_type": "stream",
     "text": [
      "Tamaño de X: 128736\n",
      " acc_lr: 0.8160126871230506 \n",
      " acc_dt: 0.9395679650142971 \n",
      " acc_rf: 0.9669125597712473\n",
      " f1_lr: 0.014923452978258074 \n",
      " f1_dt: 0.014884449667058363 \n",
      " f1_rf: 0.017130620985010704\n",
      " fbeta_lr: 0.00777908358730222 \n",
      " fbeta_dt: 0.00830574130580623 \n",
      " fbeta_rf: 0.010462255600155379 \n",
      "\n",
      "Target percentage 0.25 k  15\n",
      "y.shape =  128736 y.mean() =  0.25\n"
     ]
    },
    {
     "data": {
      "image/png": "[encoded data removed]",
      "text/plain": [
       "<Figure size 360x360 with 1 Axes>"
      ]
     },
     "metadata": {
      "needs_background": "light"
     },
     "output_type": "display_data"
    },
    {
     "name": "stdout",
     "output_type": "stream",
     "text": [
      "Tamaño de X: 128736\n",
      " acc_lr: 0.9922387485883173 \n",
      " acc_dt: 0.9553307542590768 \n",
      " acc_rf: 0.9670086743398131\n",
      " f1_lr: 0.006153846153846155 \n",
      " f1_dt: 0.018997361477572562 \n",
      " f1_rf: 0.022775800711743774\n",
      " fbeta_lr: 0.012249848392965435 \n",
      " fbeta_dt: 0.01100184574419801 \n",
      " fbeta_rf: 0.013901673190244743 \n",
      "\n",
      "Target percentage 0.5 k  5\n",
      "y.shape =  193104 y.mean() =  0.5\n"
     ]
    },
    {
     "data": {
      "image/png": "[encoded data removed]",
      "text/plain": [
       "<Figure size 360x360 with 1 Axes>"
      ]
     },
     "metadata": {
      "needs_background": "light"
     },
     "output_type": "display_data"
    },
    {
     "name": "stdout",
     "output_type": "stream",
     "text": [
      "Tamaño de X: 193104\n",
      " acc_lr: 0.816084773049475 \n",
      " acc_dt: 0.9293798207463296 \n",
      " acc_rf: 0.9458634692553524\n",
      " f1_lr: 0.01492921492921493 \n",
      " f1_dt: 0.01672800267648043 \n",
      " f1_rf: 0.02171081198436822\n",
      " fbeta_lr: 0.007782183873688965 \n",
      " fbeta_dt: 0.009193686395164668 \n",
      " fbeta_rf: 0.012254604576670148 \n",
      "\n",
      "Target percentage 0.5 k  15\n",
      "y.shape =  193104 y.mean() =  0.5\n"
     ]
    },
    {
     "data": {
      "image/png": "[encoded data removed]",
      "text/plain": [
       "<Figure size 360x360 with 1 Axes>"
      ]
     },
     "metadata": {
      "needs_background": "light"
     },
     "output_type": "display_data"
    },
    {
     "name": "stdout",
     "output_type": "stream",
     "text": [
      "Tamaño de X: 193104\n",
      " acc_lr: 0.8086118653434894 \n",
      " acc_dt: 0.9133767450801356 \n",
      " acc_rf: 0.9402647956363986\n",
      " f1_lr: 0.01532945976016813 \n",
      " f1_dt: 0.014219305441618812 \n",
      " f1_rf: 0.018942383583267563\n",
      " fbeta_lr: 0.007980679160639525 \n",
      " fbeta_dt: 0.007690843327622311 \n",
      " fbeta_rf: 0.010578454690261625 \n",
      "\n"
     ]
    }
   ],
   "source": [
    "for target_percentage in [0.25, 0.5]:\n",
    "    for k in [5, 15]:\n",
    "        X_s_train, y_s_train = SMOTE(x_vis, y_train, target_percentage, k, seed=42)\n",
    "        for model in models.keys():\n",
    "            models[model].fit(X_s_train, y_s_train)\n",
    "        y_pred_p4 = pd.DataFrame(index=X_test, columns=models.keys())\n",
    "        y_table4 = pd.DataFrame(index=['acc_p4','f1_p4','f_beta_p4'],columns=models.keys())\n",
    "        for model in models.keys():\n",
    "            y_pred_p4[model] = models[model].predict(x_vis_test)\n",
    "            y_table4[model][0] = metrics.accuracy_score(y_pred_p4[model], y_test)\n",
    "            y_table4[model][1]= metrics.f1_score(y_pred_p4[model], y_test)\n",
    "            y_table4[model][2]= metrics.fbeta_score(y_pred_p4[model], y_test,beta=10)\n",
    "        print('Target percentage', target_percentage, 'k ', k)\n",
    "        print('y.shape = ',y_s_train.shape[0], 'y.mean() = ', y_s_train.mean())\n",
    "        plot_two_classes(X_s_train, y_s_train, size=(5, 5))\n",
    "        plt.show()\n",
    "        print('Tamaño de X:' ,X_s_train.shape[0])\n",
    "        print (' acc_lr:',metrics.accuracy_score(y_pred_p4['lr'], y_test),'\\n','acc_dt:',metrics.accuracy_score(y_pred_p4['dt'], y_test),'\\n','acc_rf:',metrics.accuracy_score(y_pred_p4['rf'], y_test))\n",
    "        print (' f1_lr:',metrics.f1_score(y_pred_p4['lr'], y_test),'\\n','f1_dt:',metrics.f1_score(y_pred_p4['dt'], y_test),'\\n','f1_rf:',metrics.f1_score(y_pred_p4['rf'], y_test))\n",
    "        print(' fbeta_lr:',metrics.fbeta_score(y_pred_p4['lr'], y_test,beta=10),'\\n','fbeta_dt:',metrics.fbeta_score(y_pred_p4['dt'], y_test,beta=10),'\\n','fbeta_rf:',metrics.fbeta_score(y_pred_p4['rf'], y_test,beta=10),'\\n')\n",
    "    "
   ]
  },
  {
   "cell_type": "code",
   "execution_count": 29,
   "metadata": {},
   "outputs": [
    {
     "data": {
      "text/html": [
       "<div>\n",
       "<style scoped>\n",
       "    .dataframe tbody tr th:only-of-type {\n",
       "        vertical-align: middle;\n",
       "    }\n",
       "\n",
       "    .dataframe tbody tr th {\n",
       "        vertical-align: top;\n",
       "    }\n",
       "\n",
       "    .dataframe thead th {\n",
       "        text-align: right;\n",
       "    }\n",
       "</style>\n",
       "<table border=\"1\" class=\"dataframe\">\n",
       "  <thead>\n",
       "    <tr style=\"text-align: right;\">\n",
       "      <th></th>\n",
       "      <th>lr</th>\n",
       "      <th>dt</th>\n",
       "      <th>rf</th>\n",
       "    </tr>\n",
       "  </thead>\n",
       "  <tbody>\n",
       "    <tr>\n",
       "      <th>acc_p4</th>\n",
       "      <td>0.808612</td>\n",
       "      <td>0.913377</td>\n",
       "      <td>0.940265</td>\n",
       "    </tr>\n",
       "    <tr>\n",
       "      <th>f1_p4</th>\n",
       "      <td>0.0153295</td>\n",
       "      <td>0.0142193</td>\n",
       "      <td>0.0189424</td>\n",
       "    </tr>\n",
       "    <tr>\n",
       "      <th>f_beta_p4</th>\n",
       "      <td>0.00798068</td>\n",
       "      <td>0.00769084</td>\n",
       "      <td>0.0105785</td>\n",
       "    </tr>\n",
       "  </tbody>\n",
       "</table>\n",
       "</div>"
      ],
      "text/plain": [
       "                   lr          dt         rf\n",
       "acc_p4       0.808612    0.913377   0.940265\n",
       "f1_p4       0.0153295   0.0142193  0.0189424\n",
       "f_beta_p4  0.00798068  0.00769084  0.0105785"
      ]
     },
     "execution_count": 29,
     "metadata": {},
     "output_type": "execute_result"
    }
   ],
   "source": [
    "y_table4"
   ]
  },
  {
   "cell_type": "markdown",
   "metadata": {},
   "source": [
    "Con el método SMOTE, se obtiene la precisión más baja para el fbeta correspondiente a la regresión logística. Del otro lado, el mejor valor para esta varirable se obtiene por medio de un Random Forests."
   ]
  },
  {
   "cell_type": "markdown",
   "metadata": {},
   "source": [
    "# Exercise 15.5 (3 points)\n",
    "\n",
    "Evaluate the results using Adaptive Synthetic Sampling Approach for Imbalanced\n",
    "Learning (ADASYN)\n",
    "\n",
    "http://www.ele.uri.edu/faculty/he/PDFfiles/adasyn.pdf\n",
    "https://imbalanced-learn.readthedocs.io/en/stable/generated/imblearn.over_sampling.ADASYN.html#rf9172e970ca5-1"
   ]
  },
  {
   "cell_type": "code",
   "execution_count": 30,
   "metadata": {},
   "outputs": [
    {
     "name": "stdout",
     "output_type": "stream",
     "text": [
      "Requirement already satisfied: imblearn in c:\\users\\usuario\\anaconda3\\lib\\site-packages (0.0)\n",
      "Requirement already satisfied: imbalanced-learn in c:\\users\\usuario\\anaconda3\\lib\\site-packages (from imblearn) (0.4.3)\n",
      "Requirement already satisfied: scikit-learn>=0.20 in c:\\users\\usuario\\anaconda3\\lib\\site-packages (from imbalanced-learn->imblearn) (0.20.1)\n",
      "Requirement already satisfied: scipy>=0.13.3 in c:\\users\\usuario\\anaconda3\\lib\\site-packages (from imbalanced-learn->imblearn) (1.1.0)\n",
      "Requirement already satisfied: numpy>=1.8.2 in c:\\users\\usuario\\anaconda3\\lib\\site-packages (from imbalanced-learn->imblearn) (1.15.4)\n"
     ]
    }
   ],
   "source": [
    "!pip install imblearn"
   ]
  },
  {
   "cell_type": "code",
   "execution_count": 31,
   "metadata": {},
   "outputs": [
    {
     "name": "stdout",
     "output_type": "stream",
     "text": [
      "96552\n",
      "192978\n"
     ]
    }
   ],
   "source": [
    "from collections import Counter\n",
    "from imblearn.over_sampling import ADASYN\n",
    "ada = ADASYN(random_state=42)\n",
    "X_ada, y_ada = ada.fit_resample(x_vis, y_train)\n",
    "print(x_vis[y_train==0].shape[0])\n",
    "print(X_ada.shape[0])"
   ]
  },
  {
   "cell_type": "code",
   "execution_count": 32,
   "metadata": {
    "scrolled": false
   },
   "outputs": [
    {
     "name": "stdout",
     "output_type": "stream",
     "text": [
      "Tamaño de X: 192978\n"
     ]
    },
    {
     "data": {
      "image/png": "[encoded data removed]",
      "text/plain": [
       "<Figure size 360x360 with 1 Axes>"
      ]
     },
     "metadata": {
      "needs_background": "light"
     },
     "output_type": "display_data"
    },
    {
     "name": "stdout",
     "output_type": "stream",
     "text": [
      " acc_lr: 0.7839584785063796 \n",
      " acc_dt: 0.9665521301391259 \n",
      " acc_rf: 0.9653747266741957\n",
      " f1_lr: 0.01791370835608957 \n",
      " f1_dt: 0.023842917251051893 \n",
      " f1_rf: 0.025693035835023664\n",
      " fbeta_lr: 0.009292618752419369 \n",
      " fbeta_dt: 0.014508428746461617 \n",
      " fbeta_rf: 0.015520239395042257 \n",
      "\n"
     ]
    }
   ],
   "source": [
    "for model in models.keys():\n",
    "    models[model].fit(X_ada, y_ada)\n",
    "y_pred_p5 = pd.DataFrame(index=X_test.index, columns=models.keys())\n",
    "y_table5 = pd.DataFrame(index=['acc_p5','f1_p5','f_beta_p5'],columns=models.keys())\n",
    "for model in models.keys():\n",
    "    y_pred_p5[model] = models[model].predict(x_vis_test)\n",
    "    y_table5[model][0] = metrics.accuracy_score(y_pred_p5[model], y_test)\n",
    "    y_table5[model][1]= metrics.f1_score(y_pred_p5[model], y_test)\n",
    "    y_table5[model][2]= metrics.fbeta_score(y_pred_p5[model], y_test,beta=10)    \n",
    "print('Tamaño de X:' ,X_ada.shape[0])\n",
    "plot_two_classes(X_ada, y_ada, size=(5, 5))\n",
    "plt.show()\n",
    "print (' acc_lr:',metrics.accuracy_score(y_pred_p5['lr'], y_test),'\\n','acc_dt:',metrics.accuracy_score(y_pred_p5['dt'], y_test),'\\n','acc_rf:',metrics.accuracy_score(y_pred_p5['rf'], y_test))\n",
    "print (' f1_lr:',metrics.f1_score(y_pred_p5['lr'], y_test),'\\n','f1_dt:',metrics.f1_score(y_pred_p5['dt'], y_test),'\\n','f1_rf:',metrics.f1_score(y_pred_p5['rf'], y_test))\n",
    "print(' fbeta_lr:',metrics.fbeta_score(y_pred_p5['lr'], y_test,beta=10),'\\n','fbeta_dt:',metrics.fbeta_score(y_pred_p5['dt'], y_test,beta=10),'\\n','fbeta_rf:',metrics.fbeta_score(y_pred_p5['rf'], y_test,beta=10),'\\n')    "
   ]
  },
  {
   "cell_type": "code",
   "execution_count": 33,
   "metadata": {},
   "outputs": [
    {
     "data": {
      "text/html": [
       "<div>\n",
       "<style scoped>\n",
       "    .dataframe tbody tr th:only-of-type {\n",
       "        vertical-align: middle;\n",
       "    }\n",
       "\n",
       "    .dataframe tbody tr th {\n",
       "        vertical-align: top;\n",
       "    }\n",
       "\n",
       "    .dataframe thead th {\n",
       "        text-align: right;\n",
       "    }\n",
       "</style>\n",
       "<table border=\"1\" class=\"dataframe\">\n",
       "  <thead>\n",
       "    <tr style=\"text-align: right;\">\n",
       "      <th></th>\n",
       "      <th>lr</th>\n",
       "      <th>dt</th>\n",
       "      <th>rf</th>\n",
       "    </tr>\n",
       "  </thead>\n",
       "  <tbody>\n",
       "    <tr>\n",
       "      <th>acc_p5</th>\n",
       "      <td>0.783958</td>\n",
       "      <td>0.966552</td>\n",
       "      <td>0.965375</td>\n",
       "    </tr>\n",
       "    <tr>\n",
       "      <th>f1_p5</th>\n",
       "      <td>0.0179137</td>\n",
       "      <td>0.0238429</td>\n",
       "      <td>0.025693</td>\n",
       "    </tr>\n",
       "    <tr>\n",
       "      <th>f_beta_p5</th>\n",
       "      <td>0.00929262</td>\n",
       "      <td>0.0145084</td>\n",
       "      <td>0.0155202</td>\n",
       "    </tr>\n",
       "  </tbody>\n",
       "</table>\n",
       "</div>"
      ],
      "text/plain": [
       "                   lr         dt         rf\n",
       "acc_p5       0.783958   0.966552   0.965375\n",
       "f1_p5       0.0179137  0.0238429   0.025693\n",
       "f_beta_p5  0.00929262  0.0145084  0.0155202"
      ]
     },
     "execution_count": 33,
     "metadata": {},
     "output_type": "execute_result"
    }
   ],
   "source": [
    "y_table5"
   ]
  },
  {
   "cell_type": "markdown",
   "metadata": {},
   "source": [
    "Con este mètodo de aprendizaje se obtienes estadìsticas significativamente mejores para los tres métodos estudiados puntualmente para el fbeta."
   ]
  },
  {
   "cell_type": "markdown",
   "metadata": {},
   "source": [
    "# Exercise 15.6 (3 points)\n",
    "\n",
    "Compare and comment about the results"
   ]
  },
  {
   "cell_type": "code",
   "execution_count": 34,
   "metadata": {},
   "outputs": [],
   "source": [
    "resultados=pd.concat([y_table, y_table2, y_table3, y_table4, y_table5],keys=['Desbalanceado','Undersampling','Oversampling','Smote','ADASYN'])"
   ]
  },
  {
   "cell_type": "code",
   "execution_count": 35,
   "metadata": {},
   "outputs": [
    {
     "data": {
      "text/html": [
       "<div>\n",
       "<style scoped>\n",
       "    .dataframe tbody tr th:only-of-type {\n",
       "        vertical-align: middle;\n",
       "    }\n",
       "\n",
       "    .dataframe tbody tr th {\n",
       "        vertical-align: top;\n",
       "    }\n",
       "\n",
       "    .dataframe thead th {\n",
       "        text-align: right;\n",
       "    }\n",
       "</style>\n",
       "<table border=\"1\" class=\"dataframe\">\n",
       "  <thead>\n",
       "    <tr style=\"text-align: right;\">\n",
       "      <th></th>\n",
       "      <th></th>\n",
       "      <th>lr</th>\n",
       "      <th>dt</th>\n",
       "      <th>rf</th>\n",
       "    </tr>\n",
       "  </thead>\n",
       "  <tbody>\n",
       "    <tr>\n",
       "      <th rowspan=\"3\" valign=\"top\">Desbalanceado</th>\n",
       "      <th>acc</th>\n",
       "      <td>0.994113</td>\n",
       "      <td>0.989163</td>\n",
       "      <td>0.994113</td>\n",
       "    </tr>\n",
       "    <tr>\n",
       "      <th>f_1</th>\n",
       "      <td>0</td>\n",
       "      <td>0.137667</td>\n",
       "      <td>0.115523</td>\n",
       "    </tr>\n",
       "    <tr>\n",
       "      <th>f_beta</th>\n",
       "      <td>0</td>\n",
       "      <td>0.129649</td>\n",
       "      <td>0.469086</td>\n",
       "    </tr>\n",
       "    <tr>\n",
       "      <th rowspan=\"3\" valign=\"top\">Undersampling</th>\n",
       "      <th>acc_p2</th>\n",
       "      <td>0.787298</td>\n",
       "      <td>0.841147</td>\n",
       "      <td>0.865368</td>\n",
       "    </tr>\n",
       "    <tr>\n",
       "      <th>f1_p2</th>\n",
       "      <td>0.0177541</td>\n",
       "      <td>0.0166592</td>\n",
       "      <td>0.0147705</td>\n",
       "    </tr>\n",
       "    <tr>\n",
       "      <th>f_beta_p2</th>\n",
       "      <td>0.0092138</td>\n",
       "      <td>0.00872779</td>\n",
       "      <td>0.00779142</td>\n",
       "    </tr>\n",
       "    <tr>\n",
       "      <th rowspan=\"3\" valign=\"top\">Oversampling</th>\n",
       "      <th>acc_p3</th>\n",
       "      <td>0.993729</td>\n",
       "      <td>0.464209</td>\n",
       "      <td>0.955403</td>\n",
       "    </tr>\n",
       "    <tr>\n",
       "      <th>f1_p3</th>\n",
       "      <td>0</td>\n",
       "      <td>0.010912</td>\n",
       "      <td>0.014862</td>\n",
       "    </tr>\n",
       "    <tr>\n",
       "      <th>f_beta_p3</th>\n",
       "      <td>0</td>\n",
       "      <td>0.00557049</td>\n",
       "      <td>0.00861433</td>\n",
       "    </tr>\n",
       "    <tr>\n",
       "      <th rowspan=\"3\" valign=\"top\">Smote</th>\n",
       "      <th>acc_p4</th>\n",
       "      <td>0.808612</td>\n",
       "      <td>0.913377</td>\n",
       "      <td>0.940265</td>\n",
       "    </tr>\n",
       "    <tr>\n",
       "      <th>f1_p4</th>\n",
       "      <td>0.0153295</td>\n",
       "      <td>0.0142193</td>\n",
       "      <td>0.0189424</td>\n",
       "    </tr>\n",
       "    <tr>\n",
       "      <th>f_beta_p4</th>\n",
       "      <td>0.00798068</td>\n",
       "      <td>0.00769084</td>\n",
       "      <td>0.0105785</td>\n",
       "    </tr>\n",
       "    <tr>\n",
       "      <th rowspan=\"3\" valign=\"top\">ADASYN</th>\n",
       "      <th>acc_p5</th>\n",
       "      <td>0.783958</td>\n",
       "      <td>0.966552</td>\n",
       "      <td>0.965375</td>\n",
       "    </tr>\n",
       "    <tr>\n",
       "      <th>f1_p5</th>\n",
       "      <td>0.0179137</td>\n",
       "      <td>0.0238429</td>\n",
       "      <td>0.025693</td>\n",
       "    </tr>\n",
       "    <tr>\n",
       "      <th>f_beta_p5</th>\n",
       "      <td>0.00929262</td>\n",
       "      <td>0.0145084</td>\n",
       "      <td>0.0155202</td>\n",
       "    </tr>\n",
       "  </tbody>\n",
       "</table>\n",
       "</div>"
      ],
      "text/plain": [
       "                                 lr          dt          rf\n",
       "Desbalanceado acc          0.994113    0.989163    0.994113\n",
       "              f_1                 0    0.137667    0.115523\n",
       "              f_beta              0    0.129649    0.469086\n",
       "Undersampling acc_p2       0.787298    0.841147    0.865368\n",
       "              f1_p2       0.0177541   0.0166592   0.0147705\n",
       "              f_beta_p2   0.0092138  0.00872779  0.00779142\n",
       "Oversampling  acc_p3       0.993729    0.464209    0.955403\n",
       "              f1_p3               0    0.010912    0.014862\n",
       "              f_beta_p3           0  0.00557049  0.00861433\n",
       "Smote         acc_p4       0.808612    0.913377    0.940265\n",
       "              f1_p4       0.0153295   0.0142193   0.0189424\n",
       "              f_beta_p4  0.00798068  0.00769084   0.0105785\n",
       "ADASYN        acc_p5       0.783958    0.966552    0.965375\n",
       "              f1_p5       0.0179137   0.0238429    0.025693\n",
       "              f_beta_p5  0.00929262   0.0145084   0.0155202"
      ]
     },
     "execution_count": 35,
     "metadata": {},
     "output_type": "execute_result"
    }
   ],
   "source": [
    "resultados"
   ]
  },
  {
   "cell_type": "markdown",
   "metadata": {},
   "source": [
    "En la medida en que se hace tratamiento a los datos, los valores del accuracy para la regresión logística tienen un comportamiento oscilante. Cuando se aplica alguna de las técnicas, tanto el oversampling como el ADASYN son los que arrojan el valor más bajo. La regresión logística presenta algunas inconsistencias, y en muchos de los casos de evaluación de cualquiera de las técnicas arroja valores de 0.\n",
    "\n",
    "En términos generales, el modelo random forests es el que ofrece los mejores resultados para cada uno de los tratamientos aplicados, aunque específicamente los valores de fbeta no alcanzan nunca una precisión cercana al 2%, lo que se traduce en que el desbalanceo de los datos es lo suficientemente grande para no permitir crear un modelo consistente en el que se puedan sacar conclusiones veraces. Cuando fbeta tiende a cero se está enfocando e la presición del modelo y se deja de lado el recall o sensitividad del mismo.\n",
    "\n",
    "Se concluye de manera clara que el accuracy no es una medida confiable en la medida en que haya un desbalance tan grande en las observaciones y que se debe tener muy claro el contexto del problema para saber y creer que los resultados que se están obteniendo son válidos.\n",
    "\n"
   ]
  }
 ],
 "metadata": {
  "kernelspec": {
   "display_name": "Python 3",
   "language": "python",
   "name": "python3"
  },
  "language_info": {
   "codemirror_mode": {
    "name": "ipython",
    "version": 3
   },
   "file_extension": ".py",
   "mimetype": "text/x-python",
   "name": "python",
   "nbconvert_exporter": "python",
   "pygments_lexer": "ipython3",
   "version": "3.6.5"
  }
 },
 "nbformat": 4,
 "nbformat_minor": 1
}
