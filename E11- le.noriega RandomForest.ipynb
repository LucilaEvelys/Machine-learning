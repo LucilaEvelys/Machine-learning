{
 "cells": [
  {
   "cell_type": "markdown",
   "metadata": {},
   "source": [
    "# Exercise 11\n",
    "\n",
    "## Car Price Prediction\n",
    "\n",
    "Predict if the price of a car is low or high"
   ]
  },
  {
   "cell_type": "code",
   "execution_count": 1,
   "metadata": {
    "scrolled": false
   },
   "outputs": [
    {
     "data": {
      "text/html": [
       "<div>\n",
       "<style scoped>\n",
       "    .dataframe tbody tr th:only-of-type {\n",
       "        vertical-align: middle;\n",
       "    }\n",
       "\n",
       "    .dataframe tbody tr th {\n",
       "        vertical-align: top;\n",
       "    }\n",
       "\n",
       "    .dataframe thead th {\n",
       "        text-align: right;\n",
       "    }\n",
       "</style>\n",
       "<table border=\"1\" class=\"dataframe\">\n",
       "  <thead>\n",
       "    <tr style=\"text-align: right;\">\n",
       "      <th></th>\n",
       "      <th>Year</th>\n",
       "      <th>Mileage</th>\n",
       "      <th>M_Camry</th>\n",
       "      <th>M_Camry4dr</th>\n",
       "      <th>M_CamryBase</th>\n",
       "      <th>M_CamryL</th>\n",
       "      <th>M_CamryLE</th>\n",
       "      <th>M_CamrySE</th>\n",
       "      <th>M_CamryXLE</th>\n",
       "      <th>HighPrice</th>\n",
       "    </tr>\n",
       "  </thead>\n",
       "  <tbody>\n",
       "    <tr>\n",
       "      <th>15</th>\n",
       "      <td>2016</td>\n",
       "      <td>29242</td>\n",
       "      <td>0</td>\n",
       "      <td>0</td>\n",
       "      <td>0</td>\n",
       "      <td>0</td>\n",
       "      <td>1</td>\n",
       "      <td>0</td>\n",
       "      <td>0</td>\n",
       "      <td>1</td>\n",
       "    </tr>\n",
       "    <tr>\n",
       "      <th>47</th>\n",
       "      <td>2015</td>\n",
       "      <td>26465</td>\n",
       "      <td>0</td>\n",
       "      <td>0</td>\n",
       "      <td>0</td>\n",
       "      <td>0</td>\n",
       "      <td>1</td>\n",
       "      <td>0</td>\n",
       "      <td>0</td>\n",
       "      <td>1</td>\n",
       "    </tr>\n",
       "    <tr>\n",
       "      <th>85</th>\n",
       "      <td>2012</td>\n",
       "      <td>46739</td>\n",
       "      <td>0</td>\n",
       "      <td>1</td>\n",
       "      <td>0</td>\n",
       "      <td>0</td>\n",
       "      <td>0</td>\n",
       "      <td>0</td>\n",
       "      <td>0</td>\n",
       "      <td>1</td>\n",
       "    </tr>\n",
       "    <tr>\n",
       "      <th>141</th>\n",
       "      <td>2017</td>\n",
       "      <td>41722</td>\n",
       "      <td>0</td>\n",
       "      <td>0</td>\n",
       "      <td>0</td>\n",
       "      <td>0</td>\n",
       "      <td>0</td>\n",
       "      <td>1</td>\n",
       "      <td>0</td>\n",
       "      <td>1</td>\n",
       "    </tr>\n",
       "    <tr>\n",
       "      <th>226</th>\n",
       "      <td>2014</td>\n",
       "      <td>77669</td>\n",
       "      <td>0</td>\n",
       "      <td>0</td>\n",
       "      <td>0</td>\n",
       "      <td>0</td>\n",
       "      <td>0</td>\n",
       "      <td>0</td>\n",
       "      <td>1</td>\n",
       "      <td>0</td>\n",
       "    </tr>\n",
       "  </tbody>\n",
       "</table>\n",
       "</div>"
      ],
      "text/plain": [
       "     Year  Mileage  M_Camry  M_Camry4dr  M_CamryBase  M_CamryL  M_CamryLE  \\\n",
       "15   2016    29242        0           0            0         0          1   \n",
       "47   2015    26465        0           0            0         0          1   \n",
       "85   2012    46739        0           1            0         0          0   \n",
       "141  2017    41722        0           0            0         0          0   \n",
       "226  2014    77669        0           0            0         0          0   \n",
       "\n",
       "     M_CamrySE  M_CamryXLE  HighPrice  \n",
       "15           0           0          1  \n",
       "47           0           0          1  \n",
       "85           0           0          1  \n",
       "141          1           0          1  \n",
       "226          0           1          0  "
      ]
     },
     "execution_count": 1,
     "metadata": {},
     "output_type": "execute_result"
    }
   ],
   "source": [
    "%matplotlib inline\n",
    "import pandas as pd\n",
    "import numpy as np\n",
    "\n",
    "data = pd.read_csv('https://github.com/albahnsen/PracticalMachineLearningClass/raw/master/datasets/dataTrain_carListings.zip')\n",
    "data = data.loc[data['Model'].str.contains('Camry')].drop(['Make', 'State'], axis=1)\n",
    "data = data.join(pd.get_dummies(data['Model'], prefix='M'))\n",
    "data['HighPrice'] = (data['Price'] > data['Price'].mean()).astype(int)\n",
    "data = data.drop(['Model', 'Price'], axis=1)\n",
    "\n",
    "data.head()"
   ]
  },
  {
   "cell_type": "code",
   "execution_count": 2,
   "metadata": {},
   "outputs": [
    {
     "data": {
      "text/plain": [
       "(13150, 10)"
      ]
     },
     "execution_count": 2,
     "metadata": {},
     "output_type": "execute_result"
    }
   ],
   "source": [
    "data.shape"
   ]
  },
  {
   "cell_type": "markdown",
   "metadata": {},
   "source": [
    "# Exercise 11.1\n",
    "\n",
    "Estimate a Decision Tree Classifier Manually using the code created in the Notebook #13\n",
    "\n",
    "Evaluate the accuracy on the testing set"
   ]
  },
  {
   "cell_type": "code",
   "execution_count": 3,
   "metadata": {},
   "outputs": [],
   "source": [
    "y = data['HighPrice']\n",
    "X = data.drop(['HighPrice'], axis=1)"
   ]
  },
  {
   "cell_type": "code",
   "execution_count": 4,
   "metadata": {},
   "outputs": [],
   "source": [
    "# Partición del x_train y el x_test\n",
    "from sklearn.model_selection import train_test_split\n",
    "X_train, X_test, y_train, y_test = train_test_split(X, y, test_size=0.33, random_state=42)"
   ]
  },
  {
   "cell_type": "code",
   "execution_count": 5,
   "metadata": {},
   "outputs": [],
   "source": [
    "# Definición de variables\n",
    "max_depth = None\n",
    "num_pct = 10\n",
    "max_features = None\n",
    "min_gain=0.001"
   ]
  },
  {
   "cell_type": "markdown",
   "metadata": {},
   "source": [
    "Se realiza un ejemplo tomando la columna Mileage como si fuera la mejor"
   ]
  },
  {
   "cell_type": "code",
   "execution_count": 6,
   "metadata": {},
   "outputs": [
    {
     "name": "stdout",
     "output_type": "stream",
     "text": [
      "Year\n"
     ]
    }
   ],
   "source": [
    "j = 0\n",
    "print(X.columns[j])"
   ]
  },
  {
   "cell_type": "code",
   "execution_count": 7,
   "metadata": {},
   "outputs": [],
   "source": [
    "# Hace las particiones a partir de los percentiles\n",
    "splits = np.percentile(X.iloc[:, j], np.arange(0, 100, 100.0 / num_pct).tolist())"
   ]
  },
  {
   "cell_type": "code",
   "execution_count": 8,
   "metadata": {},
   "outputs": [],
   "source": [
    "# Puntos donde se va a probar la ganancia de partir el árbol en ese punto\n",
    "splits = np.unique(splits)"
   ]
  },
  {
   "cell_type": "code",
   "execution_count": 9,
   "metadata": {},
   "outputs": [
    {
     "data": {
      "text/plain": [
       "array([1998., 2009., 2011., 2013., 2014., 2015., 2016., 2017.])"
      ]
     },
     "execution_count": 9,
     "metadata": {},
     "output_type": "execute_result"
    }
   ],
   "source": [
    "splits"
   ]
  },
  {
   "cell_type": "markdown",
   "metadata": {},
   "source": [
    "Para cada nodo, establecer el Gini."
   ]
  },
  {
   "cell_type": "code",
   "execution_count": 10,
   "metadata": {},
   "outputs": [],
   "source": [
    "# Gini, medida de desigualdad. \n",
    "# Qué tan disímiles son las dos clases. Lo importante es calcular cuál es la ganancia de hacer esa partición. \n",
    "# Si da positivo, es una ganancia.\n",
    "def gini(y):\n",
    "    if y.shape[0] == 0:\n",
    "        return 0\n",
    "    else:\n",
    "        return 1 - (y.mean()**2 + (1 - y.mean())**2)"
   ]
  },
  {
   "cell_type": "code",
   "execution_count": 11,
   "metadata": {},
   "outputs": [],
   "source": [
    "# Se realiza un ejemplo ta como se hizo en el notebook de clase para mayor entendimiento. Se escoge la posición 6.\n",
    "k = 6"
   ]
  },
  {
   "cell_type": "code",
   "execution_count": 12,
   "metadata": {},
   "outputs": [],
   "source": [
    "filter_l = X.iloc[:, j] < splits[k]\n",
    "\n",
    "y_l = y.loc[filter_l]\n",
    "y_r = y.loc[~filter_l]"
   ]
  },
  {
   "cell_type": "code",
   "execution_count": 13,
   "metadata": {},
   "outputs": [
    {
     "data": {
      "text/plain": [
       "0.488419737747639"
      ]
     },
     "execution_count": 13,
     "metadata": {},
     "output_type": "execute_result"
    }
   ],
   "source": [
    "gini_l = gini(y_l)\n",
    "gini_l"
   ]
  },
  {
   "cell_type": "code",
   "execution_count": 14,
   "metadata": {},
   "outputs": [
    {
     "data": {
      "text/plain": [
       "0.12564987217113321"
      ]
     },
     "execution_count": 14,
     "metadata": {},
     "output_type": "execute_result"
    }
   ],
   "source": [
    "gini_r = gini(y_r)\n",
    "gini_r"
   ]
  },
  {
   "cell_type": "code",
   "execution_count": 15,
   "metadata": {},
   "outputs": [],
   "source": [
    "def gini_impurity(X_col, y, split):\n",
    "    \"Calculate the gain of an split k on feature j\"\n",
    "    \n",
    "    filter_l = X_col < split #vector booleano (si pertenece o no al lado izquierdo)\n",
    "    y_l = y.loc[filter_l]\n",
    "    y_r = y.loc[~filter_l]\n",
    "    \n",
    "    n_l = y_l.shape[0]\n",
    "    n_r = y_r.shape[0]\n",
    "    \n",
    "    # Gini total antes de partir\n",
    "    gini_y = gini(y)\n",
    "    gini_l = gini(y_l)\n",
    "    gini_r = gini(y_r)\n",
    "    \n",
    "    gini_impurity_ = gini_y - (n_l / (n_l + n_r) * gini_l + n_r / (n_l + n_r) * gini_r)\n",
    "    \n",
    "    return gini_impurity_"
   ]
  },
  {
   "cell_type": "code",
   "execution_count": 16,
   "metadata": {},
   "outputs": [
    {
     "data": {
      "text/plain": [
       "0.10990860399601965"
      ]
     },
     "execution_count": 16,
     "metadata": {},
     "output_type": "execute_result"
    }
   ],
   "source": [
    "gini_impurity(X.iloc[:, j], y, splits[k])"
   ]
  },
  {
   "cell_type": "markdown",
   "metadata": {},
   "source": [
    "#### Probar cada característica"
   ]
  },
  {
   "cell_type": "code",
   "execution_count": 17,
   "metadata": {},
   "outputs": [],
   "source": [
    "def best_split(X, y, num_pct=10): # num_pct entre màs largo mejores resultados pero mas iteraciones se deben hacer para este caso lo está haciendo de 10 en 10.\n",
    "    \n",
    "    features = range(X.shape[1])\n",
    "    \n",
    "    best_split = [0, 0, 0]  # j, split, gain\n",
    "    \n",
    "    # For all features - se debe probar todo\n",
    "    for j in features:\n",
    "        \n",
    "        splits = np.percentile(X.iloc[:, j], np.arange(0, 100, 100.0 / (num_pct+1)).tolist())\n",
    "        splits = np.unique(splits)[1:]\n",
    "        \n",
    "        # For all splits\n",
    "        for split in splits:\n",
    "            gain = gini_impurity(X.iloc[:, j], y, split)\n",
    "                        \n",
    "            if gain > best_split[2]:\n",
    "                best_split = [j, split, gain]\n",
    "    \n",
    "    return best_split"
   ]
  },
  {
   "cell_type": "code",
   "execution_count": 18,
   "metadata": {},
   "outputs": [
    {
     "data": {
      "text/plain": [
       "(1, 51704.54545454545, 0.23348567756020572)"
      ]
     },
     "execution_count": 18,
     "metadata": {},
     "output_type": "execute_result"
    }
   ],
   "source": [
    "j, split, gain = best_split(X, y, 10)\n",
    "j, split, gain"
   ]
  },
  {
   "cell_type": "code",
   "execution_count": 19,
   "metadata": {},
   "outputs": [
    {
     "data": {
      "text/plain": [
       "'Mileage'"
      ]
     },
     "execution_count": 19,
     "metadata": {},
     "output_type": "execute_result"
    }
   ],
   "source": [
    "X.columns[1] # el split devuelve el resultado de la mejor columna"
   ]
  },
  {
   "cell_type": "markdown",
   "metadata": {},
   "source": [
    "Mileage es la mejor característica para abrir el árbol en el primer nivel."
   ]
  },
  {
   "cell_type": "code",
   "execution_count": 20,
   "metadata": {},
   "outputs": [],
   "source": [
    "filter_l = X.iloc[:, j] < split\n",
    "\n",
    "y_l = y.loc[filter_l]\n",
    "y_r = y.loc[~filter_l]"
   ]
  },
  {
   "cell_type": "code",
   "execution_count": 21,
   "metadata": {},
   "outputs": [
    {
     "data": {
      "text/plain": [
       "(13150, 8368, 4782)"
      ]
     },
     "execution_count": 21,
     "metadata": {},
     "output_type": "execute_result"
    }
   ],
   "source": [
    "y.shape[0], y_l.shape[0], y_r.shape[0]"
   ]
  },
  {
   "cell_type": "code",
   "execution_count": 22,
   "metadata": {},
   "outputs": [
    {
     "data": {
      "text/plain": [
       "(0.5795437262357415, 0.8378346080305927, 0.1275616896695943)"
      ]
     },
     "execution_count": 22,
     "metadata": {},
     "output_type": "execute_result"
    }
   ],
   "source": [
    "y.mean(), y_l.mean(), y_r.mean()"
   ]
  },
  {
   "cell_type": "markdown",
   "metadata": {},
   "source": [
    "### Construcción del árbol"
   ]
  },
  {
   "cell_type": "code",
   "execution_count": 23,
   "metadata": {},
   "outputs": [],
   "source": [
    "def tree_grow(X, y, level=0 , min_gain=0.001, max_depth=None, num_pct=10):\n",
    "    \n",
    "    # If only one observation\n",
    "    if X.shape[0] == 1:\n",
    "        tree = dict(y_pred=y.iloc[:1].values[0], y_prob=0.5, level=level, split=-1, n_samples=1, gain=0)\n",
    "        return tree\n",
    "    \n",
    "    # Calculate the best split calcular la mejor partición en esa variable, devuelve la variable, el valor y la ganancia\n",
    "    j, split, gain = best_split(X, y, num_pct)\n",
    "    \n",
    "    # save tree and estimate prediction\n",
    "    y_pred = int(y.mean() >= 0.5) # antes de partirlo\n",
    "    y_prob = (y.sum() + 1.0) / (y.shape[0] + 2.0)  # Laplace correction para que nunca vaya a tender a infinito\n",
    "    \n",
    "    # Guarda la información como si fuera un nodo terminal\n",
    "    \n",
    "    tree = dict(y_pred=y_pred, y_prob=y_prob, level=level, split=-1, n_samples=X.shape[0], gain=-1)\n",
    "    \n",
    "    # Check stooping criteria\n",
    "    if gain < min_gain:\n",
    "        return tree\n",
    "    if max_depth is not None:\n",
    "        if level >= max_depth:\n",
    "            return tree   \n",
    "    \n",
    "    # No stooping criteria was meet, then continue to create the partition\n",
    "    filter_l = X.iloc[:, j] < split # partición \n",
    "    X_l, y_l = X.loc[filter_l], y.loc[filter_l]\n",
    "    X_r, y_r = X.loc[~filter_l], y.loc[~filter_l]\n",
    "    tree['split'] = [j, split]\n",
    "    tree['gain']=gain\n",
    "\n",
    "    # Next iteration to each split\n",
    "    \n",
    "    tree['sl'] = tree_grow(X_l, y_l, level + 1, min_gain=min_gain, max_depth=max_depth, num_pct=num_pct)\n",
    "    tree['sr'] = tree_grow(X_r, y_r, level + 1, min_gain=min_gain, max_depth=max_depth, num_pct=num_pct)\n",
    "    \n",
    "    return tree"
   ]
  },
  {
   "cell_type": "markdown",
   "metadata": {},
   "source": [
    "Se establecen los criterios para la construcción del árbo: ganancia mínima, máxima profundidad y número de percentiles."
   ]
  },
  {
   "cell_type": "code",
   "execution_count": 24,
   "metadata": {},
   "outputs": [
    {
     "data": {
      "text/plain": [
       "{'y_pred': 1,\n",
       " 'y_prob': 0.5780753517930095,\n",
       " 'level': 0,\n",
       " 'split': [1, 52187.63636363637],\n",
       " 'n_samples': 8810,\n",
       " 'gain': 0.23872134898880762,\n",
       " 'sl': {'y_pred': 1,\n",
       "  'y_prob': 0.8391583452211127,\n",
       "  'level': 1,\n",
       "  'split': -1,\n",
       "  'n_samples': 5606,\n",
       "  'gain': -1},\n",
       " 'sr': {'y_pred': 0,\n",
       "  'y_prob': 0.12133499688084841,\n",
       "  'level': 1,\n",
       "  'split': -1,\n",
       "  'n_samples': 3204,\n",
       "  'gain': -1}}"
      ]
     },
     "execution_count": 24,
     "metadata": {},
     "output_type": "execute_result"
    }
   ],
   "source": [
    "tree_grow(X_train, y_train, level=0, min_gain=0.001, max_depth=1, num_pct=10)"
   ]
  },
  {
   "cell_type": "code",
   "execution_count": 25,
   "metadata": {},
   "outputs": [],
   "source": [
    "tree = tree_grow(X_train, y_train, level=0, min_gain=0.001, max_depth=3, num_pct=10)"
   ]
  },
  {
   "cell_type": "code",
   "execution_count": 26,
   "metadata": {},
   "outputs": [
    {
     "data": {
      "text/plain": [
       "{'y_pred': 1,\n",
       " 'y_prob': 0.5780753517930095,\n",
       " 'level': 0,\n",
       " 'split': [1, 52187.63636363637],\n",
       " 'n_samples': 8810,\n",
       " 'gain': 0.23872134898880762,\n",
       " 'sl': {'y_pred': 1,\n",
       "  'y_prob': 0.8391583452211127,\n",
       "  'level': 1,\n",
       "  'split': [0, 2014.0],\n",
       "  'n_samples': 5606,\n",
       "  'gain': 0.03317687167496233,\n",
       "  'sl': {'y_pred': 0,\n",
       "   'y_prob': 0.36828644501278773,\n",
       "   'level': 2,\n",
       "   'split': [0, 2012.0],\n",
       "   'n_samples': 389,\n",
       "   'gain': 0.05908490521197157,\n",
       "   'sl': {'y_pred': 0,\n",
       "    'y_prob': 0.08,\n",
       "    'level': 3,\n",
       "    'split': -1,\n",
       "    'n_samples': 98,\n",
       "    'gain': -1},\n",
       "   'sr': {'y_pred': 0,\n",
       "    'y_prob': 0.46757679180887374,\n",
       "    'level': 3,\n",
       "    'split': -1,\n",
       "    'n_samples': 291,\n",
       "    'gain': -1}},\n",
       "  'sr': {'y_pred': 1,\n",
       "   'y_prob': 0.8743054224947308,\n",
       "   'level': 2,\n",
       "   'split': [0, 2015.0],\n",
       "   'n_samples': 5217,\n",
       "   'gain': 0.014933378976312917,\n",
       "   'sl': {'y_pred': 1,\n",
       "    'y_prob': 0.7348484848484849,\n",
       "    'level': 3,\n",
       "    'split': -1,\n",
       "    'n_samples': 1450,\n",
       "    'gain': -1},\n",
       "   'sr': {'y_pred': 1,\n",
       "    'y_prob': 0.9278323162642611,\n",
       "    'level': 3,\n",
       "    'split': -1,\n",
       "    'n_samples': 3767,\n",
       "    'gain': -1}}},\n",
       " 'sr': {'y_pred': 0,\n",
       "  'y_prob': 0.12133499688084841,\n",
       "  'level': 1,\n",
       "  'split': [0, 2014.0],\n",
       "  'n_samples': 3204,\n",
       "  'gain': 0.04366470703709979,\n",
       "  'sl': {'y_pred': 0,\n",
       "   'y_prob': 0.03787566899958831,\n",
       "   'level': 2,\n",
       "   'split': [0, 2012.0],\n",
       "   'n_samples': 2427,\n",
       "   'gain': 0.0044807442426036265,\n",
       "   'sl': {'y_pred': 0,\n",
       "    'y_prob': 0.007571345369831101,\n",
       "    'level': 3,\n",
       "    'split': -1,\n",
       "    'n_samples': 1715,\n",
       "    'gain': -1},\n",
       "   'sr': {'y_pred': 0,\n",
       "    'y_prob': 0.11204481792717087,\n",
       "    'level': 3,\n",
       "    'split': -1,\n",
       "    'n_samples': 712,\n",
       "    'gain': -1}},\n",
       "  'sr': {'y_pred': 0,\n",
       "   'y_prob': 0.38254172015404364,\n",
       "   'level': 2,\n",
       "   'split': [1, 69702.90909090909],\n",
       "   'n_samples': 777,\n",
       "   'gain': 0.040449309391888344,\n",
       "   'sl': {'y_pred': 0,\n",
       "    'y_prob': 0.4899193548387097,\n",
       "    'level': 3,\n",
       "    'split': -1,\n",
       "    'n_samples': 494,\n",
       "    'gain': -1},\n",
       "   'sr': {'y_pred': 0,\n",
       "    'y_prob': 0.19649122807017544,\n",
       "    'level': 3,\n",
       "    'split': -1,\n",
       "    'n_samples': 283,\n",
       "    'gain': -1}}}}"
      ]
     },
     "execution_count": 26,
     "metadata": {},
     "output_type": "execute_result"
    }
   ],
   "source": [
    "tree"
   ]
  },
  {
   "cell_type": "markdown",
   "metadata": {},
   "source": [
    "### Predicción usando x_test"
   ]
  },
  {
   "cell_type": "code",
   "execution_count": 27,
   "metadata": {},
   "outputs": [],
   "source": [
    "def tree_predict(X, tree, proba=False):\n",
    "    \n",
    "    predicted = np.ones(X.shape[0])\n",
    "\n",
    "    # Check if final node\n",
    "    if tree['split'] == -1:\n",
    "        if not proba:\n",
    "            predicted = predicted * tree['y_pred']\n",
    "        else:\n",
    "            predicted = predicted * tree['y_prob']\n",
    "            \n",
    "    else:\n",
    "        \n",
    "        j, split = tree['split']\n",
    "        filter_l = (X.iloc[:, j] < split)\n",
    "        X_l = X.loc[filter_l]\n",
    "        X_r = X.loc[~filter_l]\n",
    "\n",
    "        if X_l.shape[0] == 0:  # If left node is empty only continue with right\n",
    "            predicted[~filter_l] = tree_predict(X_r, tree['sr'], proba)\n",
    "        elif X_r.shape[0] == 0:  # If right node is empty only continue with left\n",
    "            predicted[filter_l] = tree_predict(X_l, tree['sl'], proba)\n",
    "        else:\n",
    "            predicted[filter_l] = tree_predict(X_l, tree['sl'], proba)\n",
    "            predicted[~filter_l] = tree_predict(X_r, tree['sr'], proba)\n",
    "\n",
    "    return predicted    "
   ]
  },
  {
   "cell_type": "code",
   "execution_count": 28,
   "metadata": {},
   "outputs": [
    {
     "name": "stdout",
     "output_type": "stream",
     "text": [
      "[0. 1. 1. ... 1. 1. 0.]\n"
     ]
    }
   ],
   "source": [
    "y_pred=tree_predict(X_test, tree)\n",
    "print(y_pred)"
   ]
  },
  {
   "cell_type": "code",
   "execution_count": 29,
   "metadata": {},
   "outputs": [],
   "source": [
    "from sklearn import tree\n",
    "from io import StringIO\n",
    "from IPython.display import Image"
   ]
  },
  {
   "cell_type": "code",
   "execution_count": 30,
   "metadata": {},
   "outputs": [],
   "source": [
    "#out = StringIO()\n",
    "#tree.export_graphviz(tree, out_file='tree_grow.dot')"
   ]
  },
  {
   "cell_type": "markdown",
   "metadata": {},
   "source": [
    "## Uso de sklearn para el cálculo del Accuracy."
   ]
  },
  {
   "cell_type": "code",
   "execution_count": 31,
   "metadata": {},
   "outputs": [
    {
     "name": "stdout",
     "output_type": "stream",
     "text": [
      "accuracy: 0.8610599078341014\n"
     ]
    }
   ],
   "source": [
    "from sklearn import metrics\n",
    "print ('accuracy:',metrics.accuracy_score(y_pred, y_test))\n"
   ]
  },
  {
   "cell_type": "markdown",
   "metadata": {},
   "source": [
    "La precisión del árbol de decisión de manera manual para el conjunto de prueba es de 86,1%"
   ]
  },
  {
   "cell_type": "markdown",
   "metadata": {},
   "source": [
    "# Exercise 11.2\n",
    "\n",
    "Estimate a Bagging of 10 Decision Tree Classifiers Manually using the code created in the Notebook #13\n",
    "\n",
    "Evaluate the accuracy on the testing set"
   ]
  },
  {
   "cell_type": "code",
   "execution_count": 32,
   "metadata": {},
   "outputs": [
    {
     "data": {
      "text/plain": [
       "[array([3582, 1346, 5218, ..., 5288, 5094, 8043]),\n",
       " array([ 431, 3426, 8463, ..., 8218,  237, 8326]),\n",
       " array([8477, 4773, 5743, ..., 1809,  214, 6910]),\n",
       " array([5885, 1492, 7249, ..., 1834,  137, 7586]),\n",
       " array([ 352, 4574, 5708, ..., 7142, 2081, 7438]),\n",
       " array([2311, 6342, 4124, ..., 8286, 8453, 1222]),\n",
       " array([5003, 7878, 7832, ..., 3522,  407, 3676]),\n",
       " array([6901, 1829, 1437, ..., 8100, 3585,  522]),\n",
       " array([2874, 2197, 2888, ...,  477, 5922, 4068]),\n",
       " array([5547, 7784, 7473, ..., 4908, 6648, 3622])]"
      ]
     },
     "execution_count": 32,
     "metadata": {},
     "output_type": "execute_result"
    }
   ],
   "source": [
    "import numpy as np\n",
    "n_estimators = 10\n",
    "# set a seed for reproducibility\n",
    "np.random.seed(123)\n",
    "\n",
    "n_samples = X_train.shape[0]\n",
    "\n",
    "# Se crean las muestras que serán usadas para seleccionar las filas del dataframe\n",
    "samples = [np.random.choice(a=n_samples, size=n_samples, replace=True) for _ in range(n_estimators)]\n",
    "samples"
   ]
  },
  {
   "cell_type": "code",
   "execution_count": 33,
   "metadata": {},
   "outputs": [
    {
     "data": {
      "text/plain": [
       "10"
      ]
     },
     "execution_count": 33,
     "metadata": {},
     "output_type": "execute_result"
    }
   ],
   "source": [
    "#Se compurba el tamaño de la muestra\n",
    "len(samples)"
   ]
  },
  {
   "cell_type": "code",
   "execution_count": 34,
   "metadata": {
    "scrolled": false
   },
   "outputs": [
    {
     "name": "stdout",
     "output_type": "stream",
     "text": [
      "accuracy arbol: 0 : 0.8610599078341014\n",
      "accuracy arbol: 1 : 0.8610599078341014\n",
      "accuracy arbol: 2 : 0.8610599078341014\n",
      "accuracy arbol: 3 : 0.8610599078341014\n",
      "accuracy arbol: 4 : 0.8610599078341014\n",
      "accuracy arbol: 5 : 0.8610599078341014\n",
      "accuracy arbol: 6 : 0.8610599078341014\n",
      "accuracy arbol: 7 : 0.8610599078341014\n",
      "accuracy arbol: 8 : 0.8610599078341014\n",
      "accuracy arbol: 9 : 0.8610599078341014\n"
     ]
    }
   ],
   "source": [
    "#Se crea una variable y_pred donde se va a almacenar la predicción de cada árbol\n",
    "y_pred_df = pd.DataFrame(index=X_test.index, columns=list(range(n_estimators)))\n",
    "\n",
    "#Se crea un ciclo que va a ir por cada muestra para calcular el respectivo árbol, dentro de este mismo ciclo, se calcula \n",
    "#el accuracy para cada árbol\n",
    "for i in range(n_estimators):\n",
    "    treeBagg=tree_grow(X_train.iloc[samples[i]], y_train.iloc[samples[i]], level=0, min_gain=0.001, max_depth=2, num_pct=10)\n",
    "    y_pred_df.iloc[:, i] = tree_predict(X_test,treeBagg)\n",
    "    print ('accuracy arbol:',i,':',metrics.accuracy_score(y_pred, y_test))"
   ]
  },
  {
   "cell_type": "markdown",
   "metadata": {},
   "source": [
    "Se observa que el accuracy de cada árbol es de 0.86"
   ]
  },
  {
   "cell_type": "code",
   "execution_count": 35,
   "metadata": {},
   "outputs": [
    {
     "data": {
      "text/plain": [
       "332784     2.0\n",
       "146436    10.0\n",
       "130476    10.0\n",
       "85618     10.0\n",
       "75474      0.0\n",
       "dtype: float64"
      ]
     },
     "execution_count": 35,
     "metadata": {},
     "output_type": "execute_result"
    }
   ],
   "source": [
    "y_pred_df.sum(axis=1).head()"
   ]
  },
  {
   "cell_type": "code",
   "execution_count": 36,
   "metadata": {},
   "outputs": [
    {
     "data": {
      "text/plain": [
       "0.8608294930875576"
      ]
     },
     "execution_count": 36,
     "metadata": {},
     "output_type": "execute_result"
    }
   ],
   "source": [
    "y_pred = (y_pred_df.sum(axis=1) >= (n_estimators / 2)).astype(np.int)\n",
    "metrics.accuracy_score(y_pred, y_test)"
   ]
  },
  {
   "cell_type": "markdown",
   "metadata": {},
   "source": [
    "Al calcular el accuracy de todo los arboles como uno solo, se observa que este es 0.86 con los 10 árboles"
   ]
  },
  {
   "cell_type": "markdown",
   "metadata": {},
   "source": [
    "# Exercise 11.3\n",
    "\n",
    "Implement the variable max_features on the Decision Tree Classifier created in 11.1.\n",
    "\n",
    "Compare the impact in the results by varing the parameter max_features\n",
    "\n",
    "Evaluate the accuracy on the testing set"
   ]
  },
  {
   "cell_type": "code",
   "execution_count": 37,
   "metadata": {},
   "outputs": [],
   "source": [
    "def best_split_features(X, y, num_pct=10,max_features=1): # num_pct entre màs largo mejores resultados pero mas iteraciones se deben hacer para este caso lo está haciendo de 10 en 10.\n",
    "        \n",
    "    \n",
    "    #features = range(X.shape[1])\n",
    "    features = np.random.choice(a=X.shape[1], size=max_features,replace=False)\n",
    "    best_split = [0, 0, 0]\n",
    "    order=np.sort(features)\n",
    "    #print(order)\n",
    "    \n",
    "    # For all features - se debe probar todo\n",
    "    for j in order:\n",
    "        #print(j)\n",
    "        splits = np.percentile(X.iloc[:, j], np.arange(0, 100, 100.0 / (num_pct+1)).tolist())\n",
    "        splits = np.unique(splits)[1:]\n",
    "        \n",
    "        for split in splits:\n",
    "            #print(split)\n",
    "            gain = gini_impurity(X.iloc[:, j], y, split)\n",
    "            if gain > best_split[2]:\n",
    "                best_split = [j, split, gain]\n",
    "    \n",
    "                  \n",
    "    return best_split"
   ]
  },
  {
   "cell_type": "code",
   "execution_count": 38,
   "metadata": {},
   "outputs": [],
   "source": [
    "def tree_grow_features(X, y, level=0 , min_gain=0.001, max_depth=None, num_pct=10, max_feature=1):\n",
    "    \n",
    "    # If only one observation\n",
    "    if X.shape[0] == 1:\n",
    "        tree = dict(y_pred=y.iloc[:1].values[0], y_prob=0.5, level=level, split=-1, n_samples=1, gain=0)\n",
    "        return tree\n",
    "    \n",
    "    # Se agrega la opción max_features al best split, porque está función depende directamente de esta\n",
    "    #opción al dividir la data de acuerdo al número de características\n",
    "    j, split, gain = best_split_features(X, y, num_pct, max_feature)\n",
    "    \n",
    "    \n",
    "    # save tree and estimate prediction\n",
    "    y_pred = int(y.mean() >= 0.5) # antes de partirlo\n",
    "    y_prob = (y.sum() + 1.0) / (y.shape[0] + 2.0)  # Laplace correction para que nunca vaya a tender a infinito\n",
    "    \n",
    "    \n",
    "    # Guarda la información como si fuera un nodo terminal\n",
    "    \n",
    "    tree = dict(y_pred=y_pred, y_prob=y_prob, level=level, split=-1, n_samples=X.shape[0], gain=-1)\n",
    "    print(tree)\n",
    "    print(j)\n",
    "    print(split)\n",
    "    \n",
    "    # Check stooping criteria\n",
    "    if gain < min_gain:\n",
    "        return tree\n",
    "    if max_depth is not None:\n",
    "        if level >= max_depth:\n",
    "            return tree\n",
    "    #if max_features > X.shape[1]:\n",
    "    #    return tree\n",
    "    \n",
    "    # No stooping criteria was meet, then continue to create the partition\n",
    "    filter_l = X.iloc[:, j] < split # partición \n",
    "    X_l, y_l = X.loc[filter_l], y.loc[filter_l]\n",
    "    X_r, y_r = X.loc[~filter_l], y.loc[~filter_l]\n",
    "    tree['split'] = [j, split]\n",
    "    tree['gain']=gain\n",
    "    \n",
    "    # Next iteration to each split\n",
    "    \n",
    "    tree['sl'] = tree_grow_features(X_l, y_l, level + 1, min_gain=min_gain, max_depth=max_depth, num_pct=num_pct, max_feature=max_feature)\n",
    "    tree['sr'] = tree_grow_features(X_r, y_r, level + 1, min_gain=min_gain, max_depth=max_depth, num_pct=num_pct, max_feature=max_feature)\n",
    "\n",
    "    \n",
    "    return tree"
   ]
  },
  {
   "cell_type": "code",
   "execution_count": 39,
   "metadata": {},
   "outputs": [
    {
     "name": "stdout",
     "output_type": "stream",
     "text": [
      "{'y_pred': 1, 'y_prob': 0.5780753517930095, 'level': 0, 'split': -1, 'n_samples': 8810, 'gain': -1}\n",
      "1\n",
      "52187.63636363637\n",
      "{'y_pred': 1, 'y_prob': 0.8391583452211127, 'level': 1, 'split': -1, 'n_samples': 5606, 'gain': -1}\n",
      "0\n",
      "2014.0\n",
      "{'y_pred': 0, 'y_prob': 0.36828644501278773, 'level': 2, 'split': -1, 'n_samples': 389, 'gain': -1}\n",
      "0\n",
      "2012.0\n",
      "{'y_pred': 1, 'y_prob': 0.8743054224947308, 'level': 2, 'split': -1, 'n_samples': 5217, 'gain': -1}\n",
      "1\n",
      "28003.636363636364\n",
      "{'y_pred': 0, 'y_prob': 0.12133499688084841, 'level': 1, 'split': -1, 'n_samples': 3204, 'gain': -1}\n",
      "0\n",
      "2014.0\n",
      "{'y_pred': 0, 'y_prob': 0.03787566899958831, 'level': 2, 'split': -1, 'n_samples': 2427, 'gain': -1}\n",
      "0\n",
      "2012.0\n",
      "{'y_pred': 0, 'y_prob': 0.38254172015404364, 'level': 2, 'split': -1, 'n_samples': 777, 'gain': -1}\n",
      "1\n",
      "69702.90909090909\n"
     ]
    }
   ],
   "source": [
    "#treeFeature = tree_grow(X_train, y_train, level=0, min_gain=0.001, max_depth=3, num_pct=10)\n",
    "treeFeature = tree_grow_features(X_train, y_train, level=0, min_gain=0.001, max_depth=2, num_pct=10, max_feature=7)"
   ]
  },
  {
   "cell_type": "code",
   "execution_count": 40,
   "metadata": {},
   "outputs": [
    {
     "name": "stdout",
     "output_type": "stream",
     "text": [
      "[0. 1. 1. ... 1. 1. 0.]\n"
     ]
    }
   ],
   "source": [
    "y_pred=tree_predict(X_test, treeFeature)\n",
    "print(y_pred)"
   ]
  },
  {
   "cell_type": "code",
   "execution_count": 41,
   "metadata": {},
   "outputs": [
    {
     "name": "stdout",
     "output_type": "stream",
     "text": [
      "accuracy: 0.8610599078341014\n"
     ]
    }
   ],
   "source": [
    "print ('accuracy:',metrics.accuracy_score(y_pred, y_test))"
   ]
  },
  {
   "cell_type": "markdown",
   "metadata": {},
   "source": [
    "Al realizar el cambio del max_feature se observa que el accuracy cambia entre 0.72, cuando solo tiene un feature hasta 0.86 cuando se utilizan 7 o 9 features.  "
   ]
  },
  {
   "cell_type": "markdown",
   "metadata": {},
   "source": [
    "# Exercise 11.4\n",
    "\n",
    "Estimate a Bagging of 10 Decision Tree Classifiers with `max_features = log(n_features)`\n",
    "\n",
    "Evaluate the accuracy on the testing set"
   ]
  },
  {
   "cell_type": "code",
   "execution_count": 42,
   "metadata": {},
   "outputs": [
    {
     "data": {
      "text/plain": [
       "[array([3582, 1346, 5218, ..., 5288, 5094, 8043]),\n",
       " array([ 431, 3426, 8463, ..., 8218,  237, 8326]),\n",
       " array([8477, 4773, 5743, ..., 1809,  214, 6910]),\n",
       " array([5885, 1492, 7249, ..., 1834,  137, 7586]),\n",
       " array([ 352, 4574, 5708, ..., 7142, 2081, 7438]),\n",
       " array([2311, 6342, 4124, ..., 8286, 8453, 1222]),\n",
       " array([5003, 7878, 7832, ..., 3522,  407, 3676]),\n",
       " array([6901, 1829, 1437, ..., 8100, 3585,  522]),\n",
       " array([2874, 2197, 2888, ...,  477, 5922, 4068]),\n",
       " array([5547, 7784, 7473, ..., 4908, 6648, 3622])]"
      ]
     },
     "execution_count": 42,
     "metadata": {},
     "output_type": "execute_result"
    }
   ],
   "source": [
    "import numpy as np\n",
    "n_estimators = 10\n",
    "# set a seed for reproducibility\n",
    "np.random.seed(123)\n",
    "\n",
    "n_samples = X_train.shape[0]\n",
    "\n",
    "# Se crean las muestras que serán usadas para seleccionar las filas del dataframe\n",
    "samples = [np.random.choice(a=n_samples, size=n_samples, replace=True) for _ in range(n_estimators)]\n",
    "samples"
   ]
  },
  {
   "cell_type": "code",
   "execution_count": 43,
   "metadata": {},
   "outputs": [
    {
     "name": "stdout",
     "output_type": "stream",
     "text": [
      "{'y_pred': 1, 'y_prob': 0.5795506128007263, 'level': 0, 'split': -1, 'n_samples': 8810, 'gain': -1}\n",
      "8\n",
      "1.0\n",
      "{'y_pred': 1, 'y_prob': 0.5593714358129515, 'level': 1, 'split': -1, 'n_samples': 7889, 'gain': -1}\n",
      "7\n",
      "1.0\n",
      "{'y_pred': 0, 'y_prob': 0.39822616407982264, 'level': 2, 'split': -1, 'n_samples': 4508, 'gain': -1}\n",
      "0\n",
      "0\n",
      "{'y_pred': 1, 'y_prob': 0.7741649423588531, 'level': 2, 'split': -1, 'n_samples': 3381, 'gain': -1}\n",
      "1\n",
      "52407.0\n",
      "{'y_pred': 1, 'y_prob': 0.7518959913326111, 'level': 1, 'split': -1, 'n_samples': 921, 'gain': -1}\n",
      "1\n",
      "62552.909090909096\n",
      "{'y_pred': 1, 'y_prob': 0.8807947019867549, 'level': 2, 'split': -1, 'n_samples': 753, 'gain': -1}\n",
      "0\n",
      "0\n",
      "{'y_pred': 0, 'y_prob': 0.17647058823529413, 'level': 2, 'split': -1, 'n_samples': 168, 'gain': -1}\n",
      "0\n",
      "0\n",
      "{'y_pred': 1, 'y_prob': 0.5795506128007263, 'level': 0, 'split': -1, 'n_samples': 8810, 'gain': -1}\n",
      "0\n",
      "2014.0\n",
      "{'y_pred': 0, 'y_prob': 0.07711354793066855, 'level': 1, 'split': -1, 'n_samples': 2825, 'gain': -1}\n",
      "7\n",
      "1.0\n",
      "{'y_pred': 0, 'y_prob': 0.06416464891041163, 'level': 2, 'split': -1, 'n_samples': 2476, 'gain': -1}\n",
      "1\n",
      "47081.0\n",
      "{'y_pred': 0, 'y_prob': 0.17094017094017094, 'level': 2, 'split': -1, 'n_samples': 349, 'gain': -1}\n",
      "0\n",
      "2013.0\n",
      "{'y_pred': 1, 'y_prob': 0.8167696676131618, 'level': 1, 'split': -1, 'n_samples': 5985, 'gain': -1}\n",
      "7\n",
      "1.0\n",
      "{'y_pred': 1, 'y_prob': 0.7888324873096447, 'level': 2, 'split': -1, 'n_samples': 2953, 'gain': -1}\n",
      "1\n",
      "47575.09090909091\n",
      "{'y_pred': 1, 'y_prob': 0.8437705998681608, 'level': 2, 'split': -1, 'n_samples': 3032, 'gain': -1}\n",
      "1\n",
      "55984.63636363637\n",
      "{'y_pred': 1, 'y_prob': 0.5786427598729006, 'level': 0, 'split': -1, 'n_samples': 8810, 'gain': -1}\n",
      "0\n",
      "2014.0\n",
      "{'y_pred': 0, 'y_prob': 0.07977207977207977, 'level': 1, 'split': -1, 'n_samples': 2806, 'gain': -1}\n",
      "6\n",
      "1.0\n",
      "{'y_pred': 0, 'y_prob': 0.09007506255212677, 'level': 2, 'split': -1, 'n_samples': 2396, 'gain': -1}\n",
      "0\n",
      "0\n",
      "{'y_pred': 0, 'y_prob': 0.021844660194174758, 'level': 2, 'split': -1, 'n_samples': 410, 'gain': -1}\n",
      "1\n",
      "47633.27272727273\n",
      "{'y_pred': 1, 'y_prob': 0.8118548118548119, 'level': 1, 'split': -1, 'n_samples': 6004, 'gain': -1}\n",
      "1\n",
      "57421.909090909096\n",
      "{'y_pred': 1, 'y_prob': 0.8624542124542125, 'level': 2, 'split': -1, 'n_samples': 5458, 'gain': -1}\n",
      "8\n",
      "1.0\n",
      "{'y_pred': 0, 'y_prob': 0.30656934306569344, 'level': 2, 'split': -1, 'n_samples': 546, 'gain': -1}\n",
      "0\n",
      "0\n",
      "{'y_pred': 1, 'y_prob': 0.5786427598729006, 'level': 0, 'split': -1, 'n_samples': 8810, 'gain': -1}\n",
      "1\n",
      "52166.90909090909\n",
      "{'y_pred': 1, 'y_prob': 0.8379101283880172, 'level': 1, 'split': -1, 'n_samples': 5606, 'gain': -1}\n",
      "0\n",
      "2014.0\n",
      "{'y_pred': 0, 'y_prob': 0.3155080213903743, 'level': 2, 'split': -1, 'n_samples': 372, 'gain': -1}\n",
      "1\n",
      "35564.818181818184\n",
      "{'y_pred': 1, 'y_prob': 0.8750954927425516, 'level': 2, 'split': -1, 'n_samples': 5234, 'gain': -1}\n",
      "0\n",
      "2015.0\n",
      "{'y_pred': 0, 'y_prob': 0.12507797878976917, 'level': 1, 'split': -1, 'n_samples': 3204, 'gain': -1}\n",
      "0\n",
      "2014.0\n",
      "{'y_pred': 0, 'y_prob': 0.043924466338259444, 'level': 2, 'split': -1, 'n_samples': 2434, 'gain': -1}\n",
      "0\n",
      "2012.0\n",
      "{'y_pred': 0, 'y_prob': 0.38212435233160624, 'level': 2, 'split': -1, 'n_samples': 770, 'gain': -1}\n",
      "1\n",
      "61895.0\n",
      "{'y_pred': 1, 'y_prob': 0.5798910576486609, 'level': 0, 'split': -1, 'n_samples': 8810, 'gain': -1}\n",
      "0\n",
      "2014.0\n",
      "{'y_pred': 0, 'y_prob': 0.08189033189033189, 'level': 1, 'split': -1, 'n_samples': 2770, 'gain': -1}\n",
      "3\n",
      "1.0\n",
      "{'y_pred': 0, 'y_prob': 0.11644318983768526, 'level': 2, 'split': -1, 'n_samples': 1415, 'gain': -1}\n",
      "0\n",
      "0\n",
      "{'y_pred': 0, 'y_prob': 0.04642593957258659, 'level': 2, 'split': -1, 'n_samples': 1355, 'gain': -1}\n",
      "0\n",
      "0\n",
      "{'y_pred': 1, 'y_prob': 0.8083416087388282, 'level': 1, 'split': -1, 'n_samples': 6040, 'gain': -1}\n",
      "7\n",
      "1.0\n",
      "{'y_pred': 1, 'y_prob': 0.7774825639322485, 'level': 2, 'split': -1, 'n_samples': 3009, 'gain': -1}\n",
      "0\n",
      "0\n",
      "{'y_pred': 1, 'y_prob': 0.8387734915924827, 'level': 2, 'split': -1, 'n_samples': 3031, 'gain': -1}\n",
      "0\n",
      "2016.0\n",
      "{'y_pred': 1, 'y_prob': 0.5798910576486609, 'level': 0, 'split': -1, 'n_samples': 8810, 'gain': -1}\n",
      "0\n",
      "2014.0\n",
      "{'y_pred': 0, 'y_prob': 0.08189033189033189, 'level': 1, 'split': -1, 'n_samples': 2770, 'gain': -1}\n",
      "1\n",
      "44044.81818181818\n",
      "{'y_pred': 0, 'y_prob': 0.42913385826771655, 'level': 2, 'split': -1, 'n_samples': 252, 'gain': -1}\n",
      "8\n",
      "1.0\n",
      "{'y_pred': 0, 'y_prob': 0.04722222222222222, 'level': 2, 'split': -1, 'n_samples': 2518, 'gain': -1}\n",
      "0\n",
      "2012.0\n",
      "{'y_pred': 1, 'y_prob': 0.8083416087388282, 'level': 1, 'split': -1, 'n_samples': 6040, 'gain': -1}\n",
      "0\n",
      "2015.0\n",
      "{'y_pred': 1, 'y_prob': 0.623403168114461, 'level': 2, 'split': -1, 'n_samples': 1955, 'gain': -1}\n",
      "6\n",
      "1.0\n",
      "{'y_pred': 1, 'y_prob': 0.8967457793002203, 'level': 2, 'split': -1, 'n_samples': 4085, 'gain': -1}\n",
      "1\n",
      "50437.0\n",
      "{'y_pred': 1, 'y_prob': 0.5709260099863822, 'level': 0, 'split': -1, 'n_samples': 8810, 'gain': -1}\n",
      "0\n",
      "0\n",
      "{'y_pred': 1, 'y_prob': 0.5709260099863822, 'level': 0, 'split': -1, 'n_samples': 8810, 'gain': -1}\n",
      "0\n",
      "2014.0\n",
      "{'y_pred': 0, 'y_prob': 0.08195568061906437, 'level': 1, 'split': -1, 'n_samples': 2841, 'gain': -1}\n",
      "7\n",
      "1.0\n",
      "{'y_pred': 0, 'y_prob': 0.06645569620253164, 'level': 2, 'split': -1, 'n_samples': 2526, 'gain': -1}\n",
      "1\n",
      "60236.27272727273\n",
      "{'y_pred': 0, 'y_prob': 0.2082018927444795, 'level': 2, 'split': -1, 'n_samples': 315, 'gain': -1}\n",
      "0\n",
      "0\n",
      "{'y_pred': 1, 'y_prob': 0.8037179701892481, 'level': 1, 'split': -1, 'n_samples': 5969, 'gain': -1}\n",
      "8\n",
      "1.0\n",
      "{'y_pred': 1, 'y_prob': 0.7893317927979973, 'level': 2, 'split': -1, 'n_samples': 5191, 'gain': -1}\n",
      "1\n",
      "48462.0\n",
      "{'y_pred': 1, 'y_prob': 0.8987179487179487, 'level': 2, 'split': -1, 'n_samples': 778, 'gain': -1}\n",
      "1\n",
      "66221.81818181818\n",
      "{'y_pred': 1, 'y_prob': 0.5802315024965955, 'level': 0, 'split': -1, 'n_samples': 8810, 'gain': -1}\n",
      "0\n",
      "0\n",
      "{'y_pred': 1, 'y_prob': 0.5802315024965955, 'level': 0, 'split': -1, 'n_samples': 8810, 'gain': -1}\n",
      "3\n",
      "1.0\n",
      "{'y_pred': 1, 'y_prob': 0.6789225589225589, 'level': 1, 'split': -1, 'n_samples': 7423, 'gain': -1}\n",
      "0\n",
      "2014.0\n",
      "{'y_pred': 0, 'y_prob': 0.12534626038781163, 'level': 2, 'split': -1, 'n_samples': 1442, 'gain': -1}\n",
      "1\n",
      "51254.0\n",
      "{'y_pred': 1, 'y_prob': 0.8124686612067524, 'level': 2, 'split': -1, 'n_samples': 5981, 'gain': -1}\n",
      "1\n",
      "56726.27272727277\n",
      "{'y_pred': 0, 'y_prob': 0.05255579553635709, 'level': 1, 'split': -1, 'n_samples': 1387, 'gain': -1}\n",
      "0\n",
      "2012.0\n",
      "{'y_pred': 0, 'y_prob': 0.01364522417153996, 'level': 2, 'split': -1, 'n_samples': 1024, 'gain': -1}\n",
      "1\n",
      "93792.00000000001\n",
      "{'y_pred': 0, 'y_prob': 0.1643835616438356, 'level': 2, 'split': -1, 'n_samples': 363, 'gain': -1}\n",
      "1\n",
      "48644.27272727272\n",
      "{'y_pred': 1, 'y_prob': 0.580458465728552, 'level': 0, 'split': -1, 'n_samples': 8810, 'gain': -1}\n",
      "8\n",
      "1.0\n",
      "{'y_pred': 1, 'y_prob': 0.5568413021363174, 'level': 1, 'split': -1, 'n_samples': 7862, 'gain': -1}\n",
      "1\n",
      "53549.0\n",
      "{'y_pred': 1, 'y_prob': 0.8267386091127098, 'level': 2, 'split': -1, 'n_samples': 5002, 'gain': -1}\n",
      "6\n",
      "1.0\n",
      "{'y_pred': 0, 'y_prob': 0.08490566037735849, 'level': 2, 'split': -1, 'n_samples': 2860, 'gain': -1}\n",
      "2\n",
      "1.0\n",
      "{'y_pred': 1, 'y_prob': 0.7757894736842105, 'level': 1, 'split': -1, 'n_samples': 948, 'gain': -1}\n",
      "0\n",
      "0\n",
      "{'y_pred': 1, 'y_prob': 0.580458465728552, 'level': 0, 'split': -1, 'n_samples': 8810, 'gain': -1}\n",
      "1\n",
      "52098.90909090909\n",
      "{'y_pred': 1, 'y_prob': 0.8470042796005706, 'level': 1, 'split': -1, 'n_samples': 5606, 'gain': -1}\n",
      "0\n",
      "2014.0\n",
      "{'y_pred': 0, 'y_prob': 0.372972972972973, 'level': 2, 'split': -1, 'n_samples': 368, 'gain': -1}\n",
      "1\n",
      "39975.545454545456\n",
      "{'y_pred': 1, 'y_prob': 0.8803435114503817, 'level': 2, 'split': -1, 'n_samples': 5238, 'gain': -1}\n",
      "0\n",
      "2015.0\n",
      "{'y_pred': 0, 'y_prob': 0.1141609482220836, 'level': 1, 'split': -1, 'n_samples': 3204, 'gain': -1}\n",
      "3\n",
      "1.0\n",
      "{'y_pred': 0, 'y_prob': 0.17198764160659114, 'level': 2, 'split': -1, 'n_samples': 1940, 'gain': -1}\n",
      "1\n",
      "69807.18181818182\n",
      "{'y_pred': 0, 'y_prob': 0.026066350710900472, 'level': 2, 'split': -1, 'n_samples': 1264, 'gain': -1}\n",
      "0\n",
      "0\n",
      "{'y_pred': 1, 'y_prob': 0.5828415796640944, 'level': 0, 'split': -1, 'n_samples': 8810, 'gain': -1}\n",
      "8\n",
      "1.0\n",
      "{'y_pred': 1, 'y_prob': 0.5581306507067363, 'level': 1, 'split': -1, 'n_samples': 7851, 'gain': -1}\n",
      "1\n",
      "52702.36363636363\n",
      "{'y_pred': 1, 'y_prob': 0.8201280512204882, 'level': 2, 'split': -1, 'n_samples': 4996, 'gain': -1}\n",
      "7\n",
      "1.0\n",
      "{'y_pred': 0, 'y_prob': 0.09975498774938747, 'level': 2, 'split': -1, 'n_samples': 2855, 'gain': -1}\n",
      "0\n",
      "0\n",
      "{'y_pred': 1, 'y_prob': 0.7845993756503642, 'level': 1, 'split': -1, 'n_samples': 959, 'gain': -1}\n",
      "0\n",
      "0\n",
      "{'y_pred': 1, 'y_prob': 0.5828415796640944, 'level': 0, 'split': -1, 'n_samples': 8810, 'gain': -1}\n",
      "1\n",
      "51251.54545454547\n",
      "{'y_pred': 1, 'y_prob': 0.8412981455064193, 'level': 1, 'split': -1, 'n_samples': 5606, 'gain': -1}\n",
      "0\n",
      "2014.0\n",
      "{'y_pred': 0, 'y_prob': 0.3341121495327103, 'level': 2, 'split': -1, 'n_samples': 426, 'gain': -1}\n",
      "8\n",
      "1.0\n",
      "{'y_pred': 1, 'y_prob': 0.8830567348514087, 'level': 2, 'split': -1, 'n_samples': 5180, 'gain': -1}\n",
      "1\n",
      "28008.0\n",
      "{'y_pred': 0, 'y_prob': 0.13069245165315035, 'level': 1, 'split': -1, 'n_samples': 3204, 'gain': -1}\n",
      "0\n",
      "2014.0\n",
      "{'y_pred': 0, 'y_prob': 0.039932744850777635, 'level': 2, 'split': -1, 'n_samples': 2377, 'gain': -1}\n",
      "3\n",
      "1.0\n",
      "{'y_pred': 0, 'y_prob': 0.39203860072376356, 'level': 2, 'split': -1, 'n_samples': 827, 'gain': -1}\n",
      "0\n",
      "2015.0\n",
      "{'y_pred': 1, 'y_prob': 0.5764866091693146, 'level': 0, 'split': -1, 'n_samples': 8810, 'gain': -1}\n",
      "3\n",
      "1.0\n",
      "{'y_pred': 1, 'y_prob': 0.6783974011911207, 'level': 1, 'split': -1, 'n_samples': 7386, 'gain': -1}\n",
      "0\n",
      "0\n",
      "{'y_pred': 0, 'y_prob': 0.04838709677419355, 'level': 1, 'split': -1, 'n_samples': 1424, 'gain': -1}\n",
      "0\n",
      "0\n",
      "{'y_pred': 1, 'y_prob': 0.5764866091693146, 'level': 0, 'split': -1, 'n_samples': 8810, 'gain': -1}\n",
      "0\n",
      "2014.0\n",
      "{'y_pred': 0, 'y_prob': 0.08505425271263563, 'level': 1, 'split': -1, 'n_samples': 2855, 'gain': -1}\n",
      "0\n",
      "2012.0\n",
      "{'y_pred': 0, 'y_prob': 0.01037117903930131, 'level': 2, 'split': -1, 'n_samples': 1830, 'gain': -1}\n",
      "1\n",
      "81409.0\n"
     ]
    },
    {
     "name": "stdout",
     "output_type": "stream",
     "text": [
      "{'y_pred': 0, 'y_prob': 0.21908471275559882, 'level': 2, 'split': -1, 'n_samples': 1025, 'gain': -1}\n",
      "1\n",
      "51025.0\n",
      "{'y_pred': 1, 'y_prob': 0.8121537686755078, 'level': 1, 'split': -1, 'n_samples': 5955, 'gain': -1}\n",
      "1\n",
      "48409.0\n",
      "{'y_pred': 1, 'y_prob': 0.885901908475272, 'level': 2, 'split': -1, 'n_samples': 4871, 'gain': -1}\n",
      "1\n",
      "30958.0\n",
      "{'y_pred': 0, 'y_prob': 0.48066298342541436, 'level': 2, 'split': -1, 'n_samples': 1084, 'gain': -1}\n",
      "1\n",
      "63502.0\n",
      "{'y_pred': 1, 'y_prob': 0.5752383113935542, 'level': 0, 'split': -1, 'n_samples': 8810, 'gain': -1}\n",
      "8\n",
      "1.0\n",
      "{'y_pred': 1, 'y_prob': 0.5485801604482363, 'level': 1, 'split': -1, 'n_samples': 7851, 'gain': -1}\n",
      "0\n",
      "0\n",
      "{'y_pred': 1, 'y_prob': 0.7929240374609782, 'level': 1, 'split': -1, 'n_samples': 959, 'gain': -1}\n",
      "0\n",
      "0\n",
      "{'y_pred': 1, 'y_prob': 0.5752383113935542, 'level': 0, 'split': -1, 'n_samples': 8810, 'gain': -1}\n",
      "3\n",
      "1.0\n",
      "{'y_pred': 1, 'y_prob': 0.6826045497888571, 'level': 1, 'split': -1, 'n_samples': 7339, 'gain': -1}\n",
      "1\n",
      "51191.818181818184\n",
      "{'y_pred': 1, 'y_prob': 0.8557782356246488, 'level': 2, 'split': -1, 'n_samples': 5337, 'gain': -1}\n",
      "0\n",
      "2015.0\n",
      "{'y_pred': 0, 'y_prob': 0.22105788423153694, 'level': 2, 'split': -1, 'n_samples': 2002, 'gain': -1}\n",
      "1\n",
      "72073.0\n",
      "{'y_pred': 0, 'y_prob': 0.04005431093007468, 'level': 1, 'split': -1, 'n_samples': 1471, 'gain': -1}\n",
      "0\n",
      "2012.0\n",
      "{'y_pred': 0, 'y_prob': 0.008071748878923767, 'level': 2, 'split': -1, 'n_samples': 1113, 'gain': -1}\n",
      "1\n",
      "69161.54545454546\n",
      "{'y_pred': 0, 'y_prob': 0.14166666666666666, 'level': 2, 'split': -1, 'n_samples': 358, 'gain': -1}\n",
      "1\n",
      "49167.09090909091\n",
      "{'y_pred': 1, 'y_prob': 0.581593281888334, 'level': 0, 'split': -1, 'n_samples': 8810, 'gain': -1}\n",
      "6\n",
      "1.0\n",
      "{'y_pred': 1, 'y_prob': 0.5636363636363636, 'level': 1, 'split': -1, 'n_samples': 6763, 'gain': -1}\n",
      "0\n",
      "2014.0\n",
      "{'y_pred': 0, 'y_prob': 0.0982940698619009, 'level': 2, 'split': -1, 'n_samples': 2460, 'gain': -1}\n",
      "7\n",
      "1.0\n",
      "{'y_pred': 1, 'y_prob': 0.829732868757259, 'level': 2, 'split': -1, 'n_samples': 4303, 'gain': -1}\n",
      "1\n",
      "60299.27272727275\n",
      "{'y_pred': 1, 'y_prob': 0.6408003904343582, 'level': 1, 'split': -1, 'n_samples': 2047, 'gain': -1}\n",
      "0\n",
      "0\n",
      "{'y_pred': 1, 'y_prob': 0.581593281888334, 'level': 0, 'split': -1, 'n_samples': 8810, 'gain': -1}\n",
      "1\n",
      "51690.63636363637\n",
      "{'y_pred': 1, 'y_prob': 0.8411198288159771, 'level': 1, 'split': -1, 'n_samples': 5606, 'gain': -1}\n",
      "1\n",
      "35894.81818181818\n",
      "{'y_pred': 1, 'y_prob': 0.9156626506024096, 'level': 2, 'split': -1, 'n_samples': 3567, 'gain': -1}\n",
      "1\n",
      "24503.0\n",
      "{'y_pred': 1, 'y_prob': 0.7104360607545321, 'level': 2, 'split': -1, 'n_samples': 2039, 'gain': -1}\n",
      "6\n",
      "1.0\n",
      "{'y_pred': 0, 'y_prob': 0.12757330006238304, 'level': 1, 'split': -1, 'n_samples': 3204, 'gain': -1}\n",
      "0\n",
      "2014.0\n",
      "{'y_pred': 0, 'y_prob': 0.04210956663941128, 'level': 2, 'split': -1, 'n_samples': 2444, 'gain': -1}\n",
      "1\n",
      "69013.0\n",
      "{'y_pred': 0, 'y_prob': 0.40288713910761154, 'level': 2, 'split': -1, 'n_samples': 760, 'gain': -1}\n",
      "0\n",
      "2015.0\n"
     ]
    }
   ],
   "source": [
    "import math\n",
    "#Se crea una variable y_pred donde se va a almacenar la predicción de cada árbol con log(n_feature)\n",
    "y_pred_df_log = pd.DataFrame(index=X_test.index, columns=list(range(n_estimators)))\n",
    "#Se crea una variable y_pred donde se va a almacenar la predicción de cada árbol con log(n_feature)\n",
    "y_pred_df = pd.DataFrame(index=X_test.index, columns=list(range(n_estimators)))\n",
    "\n",
    "#Número de features a usar\n",
    "n_feature=5\n",
    "\n",
    "#Se crea un ciclo que va a ir por cada muestra para calcular el respectivo árbol, dentro de este mismo ciclo, se calcula \n",
    "#el accuracy para cada árbol\n",
    "for i in range(n_estimators):\n",
    "    treeBagglog=tree_grow_features(X_train.iloc[samples[i]], y_train.iloc[samples[i]], level=0, min_gain=0.001, max_depth=2, num_pct=10,max_feature=int(math.log(n_feature)))\n",
    "    y_pred_df_log.iloc[:, i] = tree_predict(X_test,treeBagglog)\n",
    "    treeBagg=tree_grow_features(X_train.iloc[samples[i]], y_train.iloc[samples[i]], level=0, min_gain=0.001, max_depth=2, num_pct=10,max_feature=n_feature)\n",
    "    y_pred_df_log.iloc[:, i] = tree_predict(X_test,treeBagglog)\n",
    "    y_pred_df.iloc[:, i] = tree_predict(X_test,treeBagg)\n",
    "    #print ('accuracy arbol:',i,':',metrics.accuracy_score(y_pred, y_test))"
   ]
  },
  {
   "cell_type": "code",
   "execution_count": 44,
   "metadata": {},
   "outputs": [
    {
     "data": {
      "text/plain": [
       "332784     1.0\n",
       "146436    10.0\n",
       "130476    10.0\n",
       "85618     10.0\n",
       "75474      0.0\n",
       "dtype: float64"
      ]
     },
     "execution_count": 44,
     "metadata": {},
     "output_type": "execute_result"
    }
   ],
   "source": [
    "y_pred_df.sum(axis=1).head()"
   ]
  },
  {
   "cell_type": "code",
   "execution_count": 45,
   "metadata": {},
   "outputs": [
    {
     "data": {
      "text/plain": [
       "332784     5.0\n",
       "146436    10.0\n",
       "130476    10.0\n",
       "85618     10.0\n",
       "75474      3.0\n",
       "dtype: float64"
      ]
     },
     "execution_count": 45,
     "metadata": {},
     "output_type": "execute_result"
    }
   ],
   "source": [
    "y_pred_df_log.sum(axis=1).head()"
   ]
  },
  {
   "cell_type": "code",
   "execution_count": 46,
   "metadata": {},
   "outputs": [
    {
     "data": {
      "text/plain": [
       "0.8610599078341014"
      ]
     },
     "execution_count": 46,
     "metadata": {},
     "output_type": "execute_result"
    }
   ],
   "source": [
    "y_pred = (y_pred_df.sum(axis=1) >= (n_estimators / 2)).astype(np.int)\n",
    "metrics.accuracy_score(y_pred, y_test)"
   ]
  },
  {
   "cell_type": "code",
   "execution_count": 47,
   "metadata": {},
   "outputs": [
    {
     "data": {
      "text/plain": [
       "0.7592165898617511"
      ]
     },
     "execution_count": 47,
     "metadata": {},
     "output_type": "execute_result"
    }
   ],
   "source": [
    "y_pred1 = (y_pred_df_log.sum(axis=1) >= (n_estimators / 2)).astype(np.int)\n",
    "metrics.accuracy_score(y_pred1, y_test)"
   ]
  },
  {
   "cell_type": "markdown",
   "metadata": {},
   "source": [
    "Usando los bagged trees con el max_features como el log del número de características se  observa que el accuracy disminuye significativamente si se compara con el max_feature sin realizarle ningún calculo. Por ejemplo con 7 como max_features, se obtiene que cuando se usa log(7) el resultado del accuracy es 0.75, mientras que para max_feature=7 es 0.86"
   ]
  },
  {
   "cell_type": "markdown",
   "metadata": {},
   "source": [
    "# Exercise 11.5\n",
    "\n",
    "Using sklearn, train a RandomForestClassifier\n",
    "\n",
    "Evaluate the accuracy on the testing set"
   ]
  },
  {
   "cell_type": "code",
   "execution_count": 48,
   "metadata": {},
   "outputs": [
    {
     "data": {
      "text/plain": [
       "RandomForestClassifier(bootstrap=True, class_weight=None, criterion='gini',\n",
       "            max_depth=None, max_features='auto', max_leaf_nodes=None,\n",
       "            min_impurity_decrease=0.0, min_impurity_split=None,\n",
       "            min_samples_leaf=1, min_samples_split=2,\n",
       "            min_weight_fraction_leaf=0.0, n_estimators='warn', n_jobs=None,\n",
       "            oob_score=False, random_state=None, verbose=0,\n",
       "            warm_start=False)"
      ]
     },
     "execution_count": 48,
     "metadata": {},
     "output_type": "execute_result"
    }
   ],
   "source": [
    "from sklearn.ensemble import RandomForestClassifier\n",
    "clf = RandomForestClassifier()\n",
    "clf"
   ]
  },
  {
   "cell_type": "code",
   "execution_count": 49,
   "metadata": {},
   "outputs": [
    {
     "name": "stderr",
     "output_type": "stream",
     "text": [
      "C:\\Users\\Usuario\\Anaconda3\\lib\\site-packages\\sklearn\\ensemble\\forest.py:246: FutureWarning: The default value of n_estimators will change from 10 in version 0.20 to 100 in 0.22.\n",
      "  \"10 in version 0.20 to 100 in 0.22.\", FutureWarning)\n"
     ]
    },
    {
     "data": {
      "text/plain": [
       "RandomForestClassifier(bootstrap=True, class_weight=None, criterion='gini',\n",
       "            max_depth=None, max_features='auto', max_leaf_nodes=None,\n",
       "            min_impurity_decrease=0.0, min_impurity_split=None,\n",
       "            min_samples_leaf=1, min_samples_split=2,\n",
       "            min_weight_fraction_leaf=0.0, n_estimators=10, n_jobs=None,\n",
       "            oob_score=False, random_state=None, verbose=0,\n",
       "            warm_start=False)"
      ]
     },
     "execution_count": 49,
     "metadata": {},
     "output_type": "execute_result"
    }
   ],
   "source": [
    "clf.fit(X_train, y_train)"
   ]
  },
  {
   "cell_type": "code",
   "execution_count": 50,
   "metadata": {},
   "outputs": [],
   "source": [
    "y_pred1=clf.predict(X_test)"
   ]
  },
  {
   "cell_type": "code",
   "execution_count": 51,
   "metadata": {},
   "outputs": [
    {
     "name": "stdout",
     "output_type": "stream",
     "text": [
      "accuracy: 0.8451612903225807\n"
     ]
    }
   ],
   "source": [
    "print ('accuracy:',metrics.accuracy_score(y_pred1, y_test))"
   ]
  },
  {
   "cell_type": "markdown",
   "metadata": {},
   "source": [
    "# Exercise 11.6\n",
    "\n",
    "Find the best parameters of the RandomForestClassifier (max_depth, max_features, n_estimators)\n",
    "\n",
    "Evaluate the accuracy on the testing set"
   ]
  },
  {
   "cell_type": "code",
   "execution_count": 52,
   "metadata": {},
   "outputs": [
    {
     "data": {
      "text/plain": [
       "count    10.000000\n",
       "mean      0.838325\n",
       "std       0.011536\n",
       "min       0.824201\n",
       "25%       0.828897\n",
       "50%       0.836502\n",
       "75%       0.844706\n",
       "max       0.860076\n",
       "dtype: float64"
      ]
     },
     "execution_count": 52,
     "metadata": {},
     "output_type": "execute_result"
    }
   ],
   "source": [
    "import matplotlib.pyplot as plt\n",
    "from sklearn.model_selection import cross_val_score\n",
    "pd.Series(cross_val_score(clf, X, y, cv=10)).describe()"
   ]
  },
  {
   "cell_type": "markdown",
   "metadata": {},
   "source": [
    "Por medio de iteraciones se realiza el cálculo del accuracy para distintos estimdores, donde se selecciona el que obtiene una mayor precisión"
   ]
  },
  {
   "cell_type": "code",
   "execution_count": 53,
   "metadata": {},
   "outputs": [],
   "source": [
    "# list of values to try for n_estimators\n",
    "estimator_range = range(10, 310, 10)\n",
    "\n",
    "# list to store the average Accuracy for each value of n_estimators\n",
    "accuracy_scores = []\n",
    "\n",
    "# use 5-fold cross-validation with each value of n_estimators (WARNING: SLOW!)\n",
    "for estimator in estimator_range:\n",
    "    clf = RandomForestClassifier(n_estimators=estimator, random_state=1, n_jobs=-1)\n",
    "    accuracy_scores.append(cross_val_score(clf, X, y, cv=5, scoring='accuracy').mean())"
   ]
  },
  {
   "cell_type": "code",
   "execution_count": 54,
   "metadata": {},
   "outputs": [
    {
     "data": {
      "text/plain": [
       "Text(0, 0.5, 'Accuracy')"
      ]
     },
     "execution_count": 54,
     "metadata": {},
     "output_type": "execute_result"
    },
    {
     "data": {
      "image/png": "[encoded data removed]",
      "text/plain": [
       "<Figure size 432x288 with 1 Axes>"
      ]
     },
     "metadata": {
      "needs_background": "light"
     },
     "output_type": "display_data"
    }
   ],
   "source": [
    "plt.plot(estimator_range, accuracy_scores)\n",
    "plt.xlabel('n_estimators')\n",
    "plt.ylabel('Accuracy')"
   ]
  },
  {
   "cell_type": "markdown",
   "metadata": {},
   "source": [
    "Para este caso se selecciona el número de estimadores en 25"
   ]
  },
  {
   "cell_type": "code",
   "execution_count": 55,
   "metadata": {},
   "outputs": [
    {
     "data": {
      "text/plain": [
       "9"
      ]
     },
     "execution_count": 55,
     "metadata": {},
     "output_type": "execute_result"
    }
   ],
   "source": [
    "X.shape[1]"
   ]
  },
  {
   "cell_type": "markdown",
   "metadata": {},
   "source": [
    "A partir del n_estimators calculado anteriormente, ahora con un ciclo se procede a calcular cual debe ser el número de features del que se obtiene el mejor accuracy"
   ]
  },
  {
   "cell_type": "code",
   "execution_count": 56,
   "metadata": {
    "scrolled": false
   },
   "outputs": [],
   "source": [
    "# list of values to try for max_features\n",
    "feature_range = range(1, X.shape[1]+1)\n",
    "\n",
    "# list to store the average Accuracy for each value of max_features\n",
    "accuracy_scores = []\n",
    "\n",
    "# use 10-fold cross-validation with each value of max_features (WARNING: SLOW!)\n",
    "for feature in feature_range:\n",
    "    clf = RandomForestClassifier(n_estimators=25, max_features=feature, random_state=1, n_jobs=-1)\n",
    "    accuracy_scores.append(cross_val_score(clf, X_train, y_train, cv=5, scoring='accuracy').mean()) \n",
    "    "
   ]
  },
  {
   "cell_type": "code",
   "execution_count": 57,
   "metadata": {},
   "outputs": [
    {
     "data": {
      "text/plain": [
       "Text(0, 0.5, 'Accuracy')"
      ]
     },
     "execution_count": 57,
     "metadata": {},
     "output_type": "execute_result"
    },
    {
     "data": {
      "image/png": "[encoded data removed]",
      "text/plain": [
       "<Figure size 432x288 with 1 Axes>"
      ]
     },
     "metadata": {
      "needs_background": "light"
     },
     "output_type": "display_data"
    }
   ],
   "source": [
    "plt.plot(feature_range, accuracy_scores)\n",
    "plt.xlabel('max_features')\n",
    "plt.ylabel('Accuracy')"
   ]
  },
  {
   "cell_type": "markdown",
   "metadata": {},
   "source": [
    "Como se observa en el gráfico anterior el mejor accuracy se obtiene para un número de features igual a 9."
   ]
  },
  {
   "cell_type": "code",
   "execution_count": 58,
   "metadata": {},
   "outputs": [
    {
     "name": "stdout",
     "output_type": "stream",
     "text": [
      "range(1, 5)\n"
     ]
    }
   ],
   "source": [
    "# list of values to try for max_depth\n",
    "depth_range = range(1, 5, 1)\n",
    "print(depth_range)"
   ]
  },
  {
   "cell_type": "code",
   "execution_count": 59,
   "metadata": {
    "scrolled": false
   },
   "outputs": [],
   "source": [
    "# list of values to try for max_depth\n",
    "depth_range = range(1, 10, 1)\n",
    "\n",
    "# list to store the average Accuracy for each value of max_features\n",
    "accuracy_scores = []\n",
    "\n",
    "# use 10-fold cross-validation with each value of max_features (WARNING: SLOW!)\n",
    "for depth in depth_range:\n",
    "    clf = RandomForestClassifier(n_estimators=25, max_features=9,max_depth=depth, random_state=1, n_jobs=-1)\n",
    "    accuracy_scores.append(cross_val_score(clf, X_train, y_train, cv=5,error_score=np.nan, scoring='accuracy').mean()) "
   ]
  },
  {
   "cell_type": "code",
   "execution_count": 60,
   "metadata": {},
   "outputs": [
    {
     "data": {
      "text/plain": [
       "Text(0, 0.5, 'Accuracy')"
      ]
     },
     "execution_count": 60,
     "metadata": {},
     "output_type": "execute_result"
    },
    {
     "data": {
      "image/png": "[encoded data removed]",
      "text/plain": [
       "<Figure size 432x288 with 1 Axes>"
      ]
     },
     "metadata": {
      "needs_background": "light"
     },
     "output_type": "display_data"
    }
   ],
   "source": [
    "plt.plot(depth_range, accuracy_scores)\n",
    "plt.xlabel('max_depth')\n",
    "plt.ylabel('Accuracy')"
   ]
  },
  {
   "cell_type": "markdown",
   "metadata": {},
   "source": [
    "Con un max_depth de 6 se obtiene el mejor accuracy, por lo que este es el último parámetro de nuestro árbol"
   ]
  },
  {
   "cell_type": "code",
   "execution_count": 61,
   "metadata": {},
   "outputs": [
    {
     "data": {
      "text/plain": [
       "RandomForestClassifier(bootstrap=True, class_weight=None, criterion='gini',\n",
       "            max_depth=6, max_features=9, max_leaf_nodes=None,\n",
       "            min_impurity_decrease=0.0, min_impurity_split=None,\n",
       "            min_samples_leaf=1, min_samples_split=2,\n",
       "            min_weight_fraction_leaf=0.0, n_estimators=25, n_jobs=-1,\n",
       "            oob_score=False, random_state=1, verbose=0, warm_start=False)"
      ]
     },
     "execution_count": 61,
     "metadata": {},
     "output_type": "execute_result"
    }
   ],
   "source": [
    "clfM = RandomForestClassifier(n_estimators=25, max_features=9, max_depth=6,random_state=1, n_jobs=-1)\n",
    "clfM.fit(X_train, y_train)"
   ]
  },
  {
   "cell_type": "code",
   "execution_count": 62,
   "metadata": {},
   "outputs": [],
   "source": [
    "#pd.DataFrame({'feature':, 'importance':clf.feature_importances_}).sort_values('importance')"
   ]
  },
  {
   "cell_type": "code",
   "execution_count": 63,
   "metadata": {},
   "outputs": [],
   "source": [
    "y_predM=clfM.predict(X_test)"
   ]
  },
  {
   "cell_type": "code",
   "execution_count": 64,
   "metadata": {},
   "outputs": [
    {
     "name": "stdout",
     "output_type": "stream",
     "text": [
      "accuracy: 0.8783410138248848\n"
     ]
    }
   ],
   "source": [
    "print ('accuracy:',metrics.accuracy_score(y_predM, y_test))"
   ]
  },
  {
   "cell_type": "markdown",
   "metadata": {},
   "source": [
    "Como se observa al realizar la búsqueda de los parámetros que mejoran el árbol, se obtuvo un aumento en el accuracy del 4%, por lo que se confirma que si se selecciona de manera adecuada los parámetros se puede mejorar el accuracy para nuestro modelo."
   ]
  }
 ],
 "metadata": {
  "kernelspec": {
   "display_name": "Python 3",
   "language": "python",
   "name": "python3"
  },
  "language_info": {
   "codemirror_mode": {
    "name": "ipython",
    "version": 3
   },
   "file_extension": ".py",
   "mimetype": "text/x-python",
   "name": "python",
   "nbconvert_exporter": "python",
   "pygments_lexer": "ipython3",
   "version": "3.6.5"
  }
 },
 "nbformat": 4,
 "nbformat_minor": 1
}
